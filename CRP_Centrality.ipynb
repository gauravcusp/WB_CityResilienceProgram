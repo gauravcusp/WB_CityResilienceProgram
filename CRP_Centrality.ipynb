{
 "cells": [
  {
   "cell_type": "code",
   "execution_count": 1,
   "metadata": {},
   "outputs": [],
   "source": [
    "import osmnx as ox\n",
    "import networkx as nx\n",
    "import matplotlib.cm as cm\n",
    "import matplotlib.colors as colors\n",
    "import pandas as pd\n",
    "import datetime\n",
    "import geocoder\n",
    "import geopandas as gpd\n",
    "from glob import glob\n",
    "import os\n",
    "%matplotlib inline\n",
    "ox.config(log_console=True, use_cache=True)"
   ]
  },
  {
   "cell_type": "code",
   "execution_count": 2,
   "metadata": {},
   "outputs": [],
   "source": [
    "def get_time(t1, t2):\n",
    "    \n",
    "    diff = t2 - t1\n",
    "    \n",
    "    c = round(diff.total_seconds() / 60, 2)\n",
    "    \n",
    "    return c"
   ]
  },
  {
   "cell_type": "code",
   "execution_count": 3,
   "metadata": {},
   "outputs": [],
   "source": [
    "def get_graph_old(place):\n",
    "    string = place.split(',')[0]\n",
    "    \n",
    "    print('Fetching graph data for {}'.format(place))\n",
    "    # download and project a street network\n",
    "    if not place == 'Monrovia, Liberia':\n",
    "        try:\n",
    "            G = ox.graph_from_place(place, network_type='drive')\n",
    "        except TypeError:\n",
    "            try:\n",
    "                G = ox.graph_from_place(place, network_type='drive', which_result=2)\n",
    "            except TypeError:\n",
    "                geo = geocoder.osm(place)\n",
    "                lon = geo.geojson['features'][0]['properties']['lng']\n",
    "                lat = geo.geojson['features'][0]['properties']['lng']\n",
    "                G = ox.graph_from_point(center_point=( lon, lat), distance = 20000)\n",
    "            except KeyError:\n",
    "                geo = geocoder.osm(place)\n",
    "                lon = geo.geojson['features'][0]['properties']['lng']\n",
    "                lat = geo.geojson['features'][0]['properties']['lng']\n",
    "                G = ox.graph_from_point(center_point=( lon, lat), distance = 20000)\n",
    "        except:\n",
    "            geo = geocoder.osm(place)\n",
    "            lon = geo.geojson['features'][0]['properties']['lng']\n",
    "            lat = geo.geojson['features'][0]['properties']['lng']\n",
    "            G = ox.graph_from_point(center_point=( lon, lat), distance = 20000)\n",
    "    else:\n",
    "        adm3 = gpd.GeoDataFrame.from_file('Liberia/LBR_adm3.shp')\n",
    "        mnv = adm3[adm3.NAME_3 == 'Monrovia'].geometry.values[0]\n",
    "        G = ox.graph_from_polygon(mnv, network_type='drive')\n",
    "        \n",
    "    G = ox.project_graph(G)\n",
    "    \n",
    "    print('Writing graph file')\n",
    "    \n",
    "    try:\n",
    "        os.mkdir('data/{}'.format(string))\n",
    "    except FileExistsError:\n",
    "        pass\n",
    "    \n",
    "    nx.write_gpickle(G, path='data/{a}/{a}'.format(a=string))\n",
    "    \n",
    "    return G"
   ]
  },
  {
   "cell_type": "code",
   "execution_count": 4,
   "metadata": {},
   "outputs": [],
   "source": [
    "def get_polygon(string):\n",
    "    \n",
    "    lis = glob('/nfshome/gb1877/gb1877/WorldBank/CRP/Betweenness_Centrality/data/AOI/*/*.shp')\n",
    "    \n",
    "    city = []\n",
    "    for i in lis:\n",
    "        x = i.split('/')[-2]\n",
    "        city.append(x.split('_')[0])\n",
    "        \n",
    "    if string in city:\n",
    "        l = glob('/nfshome/gb1877/gb1877/WorldBank/CRP/Betweenness_Centrality/data/AOI/{}_AOI/*.shp'.format(string))\n",
    "        adm = gpd.GeoDataFrame.from_file(l[0])\n",
    "        boundary_poly = adm.geometry.values[0]\n",
    "    else:\n",
    "        boundary_GDF = ox.gdf_from_place('{}'.format(string),which_result=1)\n",
    "        boundary_poly = boundary_GDF.loc[0,'geometry']\n",
    "        if boundary_poly.geom_type == 'Polygon':\n",
    "            boundary_poly = boundary_poly\n",
    "        else:\n",
    "            try:\n",
    "                boundary_GDF = ox.gdf_from_place('{}'.format(string),which_result=2)\n",
    "                boundary_poly = boundary_GDF.loc[0,'geometry']\n",
    "            except:\n",
    "                print('Polygon not available')\n",
    "    \n",
    "    return boundary_poly"
   ]
  },
  {
   "cell_type": "code",
   "execution_count": 5,
   "metadata": {},
   "outputs": [],
   "source": [
    "def get_graph(place):\n",
    "    string = place.split(',')[0]\n",
    "    \n",
    "    print('Fetching graph data for {}'.format(place))\n",
    "\n",
    "    G = ox.graph_from_polygon(get_polygon(string), network_type='drive')\n",
    "    \n",
    "    G = ox.project_graph(G)\n",
    "    \n",
    "    print('Writing graph file')\n",
    "    \n",
    "    try:\n",
    "        os.mkdir('data/{}'.format(string))\n",
    "    except FileExistsError:\n",
    "        pass\n",
    "    \n",
    "    nx.write_gpickle(G, path='data/{a}/{a}'.format(a=string))\n",
    "    \n",
    "    return G"
   ]
  },
  {
   "cell_type": "code",
   "execution_count": 6,
   "metadata": {},
   "outputs": [],
   "source": [
    "def get_edge_centrality(place):\n",
    "    \n",
    "    t1 = datetime.datetime.now()\n",
    "    \n",
    "    string = place.split(',')[0]\n",
    "    \n",
    "    # download and project a street network\n",
    "    \n",
    "    G = get_graph(place)\n",
    "    \n",
    "    t2 = datetime.datetime.now()\n",
    "    \n",
    "    print('{} minutes elapsed!'.format(get_time(t1, t2)))\n",
    "    \n",
    "    print('Getting node centrality')\n",
    "    node_centrality = nx.betweenness_centrality(G)\n",
    "    \n",
    "    \n",
    "    t3 = datetime.datetime.now()\n",
    "    \n",
    "    print('{} minutes elapsed!'.format(get_time(t1, t3)))\n",
    "    \n",
    "    print('Getting edge centrality')\n",
    "    # edge closeness centrality: convert graph to a line graph so edges become nodes and vice versa\n",
    "    edge_centrality = nx.betweenness_centrality(nx.line_graph(G))\n",
    "    \n",
    "    t4 = datetime.datetime.now()\n",
    "    \n",
    "    print('{} minutes elapsed!'.format(get_time(t1, t4)))\n",
    "    \n",
    "    print('Saving output gdf')\n",
    "    \n",
    "    nx.set_node_attributes(G, node_centrality, 'node_centrality')\n",
    "    nx.set_edge_attributes(G, edge_centrality, 'edge_centrality')\n",
    "    ox.save_graph_shapefile(G, filename='{}'.format(string))\n",
    "    \n",
    "    t5 = datetime.datetime.now()\n",
    "    \n",
    "    print('{} minutes elapsed!'.format(get_time(t1, t5)))\n",
    "    \n",
    "    print('Getting extended stats')\n",
    "    \n",
    "    extended_stats = ox.extended_stats(G, bc=True)\n",
    "    \n",
    "    dat = pd.DataFrame.from_dict(extended_stats)\n",
    "    dat.to_csv('data/{a}/Extended_Stats_{b}.csv'.format(a=string, b=string))\n",
    "    \n",
    "    t6 = datetime.datetime.now()\n",
    "    \n",
    "    print('{} minutes elapsed!'.format(get_time(t1, t6)))\n",
    "    \n",
    "    print('Getting basic stats')\n",
    "    \n",
    "    basic_stats = ox.basic_stats(G)\n",
    "    dat = pd.DataFrame.from_dict(basic_stats)\n",
    "    dat.to_csv('data/{a}/Basic_Stats_{b}.csv'.format(a=string, b=string))\n",
    "    \n",
    "    return"
   ]
  },
  {
   "cell_type": "markdown",
   "metadata": {},
   "source": [
    "1. Sfax, Tunisia\n",
    "2. Sousse, Tunisia\n",
    "3. Tunis, Tunisia\n",
    "4. Batroun, Lebanon\n",
    "5. Bint Jbeil, Lebanon\n",
    "6. Joub Jannine, Lebanon\n",
    "7. West Bank\n",
    "8. Montevideo, Uruguay\n",
    "9. Lima, Peru\n",
    "10. Cap-Haitien, Haiti\n",
    "11. Vinh Long, Vietnam\n",
    "12. Khan Hoa, Vietnam\n",
    "13. Semarang, Indonesia\n",
    "14. Penang, Malaysia\n",
    "15. Tashkent, Uzbekistan\n",
    "16. Osh, Kyrgyz \n",
    "17. Turkey (city TBD)\n",
    "18. Monrovia, Liberia \n",
    "19. Johannesburg, South Africa\n",
    "20. Maputo, Mozambique \n",
    "21. Addis Ababa, Ethiopia \n",
    "22. Blantyr, Malawi\n",
    "23. St. Louis, Senegal (TBC)\n",
    "24. Cotonou, Benin (TBC)\n",
    "25. Accra, Ghana (TBC)\n",
    "26. Province of Palawan, Philippines\n",
    "27. Davao City, Philippines"
   ]
  },
  {
   "cell_type": "code",
   "execution_count": 6,
   "metadata": {},
   "outputs": [],
   "source": [
    "city_scan_list = [\n",
    "    'Sfax, Tunisia',\n",
    "'Sousse, Tunisia',\n",
    "'Tunis, Tunisia',\n",
    "'Batroun, Lebanon',\n",
    "'Bint Jbeil, Lebanon',\n",
    "'Joub Jannine, Lebanon',\n",
    "#'West Bank', \n",
    "'Montevideo, Uruguay',\n",
    "'Lima, Peru',\n",
    "'Cap-Haitien, Haiti',\n",
    "'Vinh Long, Vietnam',\n",
    "'Khanh Hoa, Vietnam',\n",
    "'Semarang, Indonesia',\n",
    "'Penang, Malaysia',\n",
    "'Tashkent, Uzbekistan',\n",
    "'Osh,  Kyrgyzstan',\n",
    "#Turkey (city TBD)\n",
    "'Monrovia, Liberia',\n",
    "'Johannesburg, South Africa',\n",
    "'Maputo, Mozambique',\n",
    "'Addis Ababa, Ethiopia',\n",
    "'Blantyr, Malawi',\n",
    "'St. Louis, Senegal',\n",
    "'Cotonou, Benin',\n",
    "'Accra, Ghana',\n",
    "'Province of Palawan, Philippines',\n",
    "'Davao City, Philippines'\n",
    "    \n",
    "]"
   ]
  },
  {
   "cell_type": "code",
   "execution_count": null,
   "metadata": {},
   "outputs": [
    {
     "name": "stdout",
     "output_type": "stream",
     "text": [
      "Fetching graph data for Tashkent, Uzbekistan\n",
      "Writing graph file\n",
      "1.23 minutes elapsed!\n",
      "Getting node centrality\n",
      "25.49 minutes elapsed!\n",
      "Getting edge centrality\n"
     ]
    }
   ],
   "source": [
    "for i in city_scan_list[13:]:\n",
    "    %time get_edge_centrality(i)"
   ]
  },
  {
   "cell_type": "code",
   "execution_count": 5,
   "metadata": {},
   "outputs": [],
   "source": [
    "problem_cities = ['Bint Jbeil, Lebanon',\n",
    "'Joub Jannine, Lebanon','Khanh Hoa, Vietnam','Semarang, Indonesia',\n",
    "'Penang, Malaysia','Monrovia, Liberia','Johannesburg, South Africa',\n",
    "                 'Addis Ababa, Ethiopia','Blantyr, Malawi','St. Louis, Senegal',\n",
    "                  'Cotonou, Benin', 'Accra, Ghana',]"
   ]
  },
  {
   "cell_type": "code",
   "execution_count": 10,
   "metadata": {},
   "outputs": [
    {
     "name": "stdout",
     "output_type": "stream",
     "text": [
      "Fetching graph data for Joub Jannine, Lebanon\n",
      "Writing graph file\n",
      "0.65 minutes elapsed!\n",
      "Getting node centrality\n",
      "1.05 minutes elapsed!\n",
      "Getting edge centrality\n",
      "4.57 minutes elapsed!\n",
      "Saving output gdf\n",
      "4.68 minutes elapsed!\n",
      "Getting extended stats\n",
      "5.57 minutes elapsed!\n",
      "Getting basic stats\n",
      "CPU times: user 5min 27s, sys: 940 ms, total: 5min 27s\n",
      "Wall time: 5min 34s\n"
     ]
    }
   ],
   "source": [
    "%time get_edge_centrality('Joub Jannine, Lebanon')"
   ]
  },
  {
   "cell_type": "code",
   "execution_count": 12,
   "metadata": {},
   "outputs": [
    {
     "name": "stdout",
     "output_type": "stream",
     "text": [
      "Fetching graph data for Lima, Peru\n",
      "Writing graph file\n",
      "1.04 minutes elapsed!\n",
      "Getting node centrality\n",
      "1.53 minutes elapsed!\n",
      "Getting edge centrality\n",
      "4.96 minutes elapsed!\n",
      "Saving output gdf\n",
      "5.08 minutes elapsed!\n",
      "Getting extended stats\n",
      "6.23 minutes elapsed!\n",
      "Getting basic stats\n",
      "CPU times: user 5min 24s, sys: 1.08 s, total: 5min 25s\n",
      "Wall time: 6min 14s\n"
     ]
    }
   ],
   "source": [
    "%time get_edge_centrality('Lima, Peru')"
   ]
  },
  {
   "cell_type": "code",
   "execution_count": 22,
   "metadata": {},
   "outputs": [
    {
     "name": "stdout",
     "output_type": "stream",
     "text": [
      "Fetching graph data for Monrovia, Liberia\n",
      "Writing graph file\n",
      "0.93 minutes elapsed!\n",
      "Getting node centrality\n",
      "4.27 minutes elapsed!\n",
      "Getting edge centrality\n",
      "30.46 minutes elapsed!\n",
      "Saving output gdf\n"
     ]
    },
    {
     "name": "stderr",
     "output_type": "stream",
     "text": [
      "/nfshome/gb1877/.conda/envs/osmpython/lib/python3.6/site-packages/geopandas/io/file.py:108: FionaDeprecationWarning: Use fiona.Env() instead.\n",
      "  with fiona.drivers():\n"
     ]
    },
    {
     "name": "stdout",
     "output_type": "stream",
     "text": [
      "30.75 minutes elapsed!\n",
      "Getting extended stats\n",
      "37.97 minutes elapsed!\n",
      "Getting basic stats\n",
      "CPU times: user 37min 35s, sys: 932 ms, total: 37min 36s\n",
      "Wall time: 38min 2s\n"
     ]
    }
   ],
   "source": [
    "%time get_edge_centrality('Monrovia, Liberia')"
   ]
  },
  {
   "cell_type": "code",
   "execution_count": null,
   "metadata": {},
   "outputs": [
    {
     "name": "stdout",
     "output_type": "stream",
     "text": [
      "Fetching graph data for West Bank\n",
      "Writing graph file\n",
      "42.15 minutes elapsed!\n",
      "Getting node centrality\n"
     ]
    }
   ],
   "source": [
    "%time get_edge_centrality('West Bank')"
   ]
  },
  {
   "cell_type": "markdown",
   "metadata": {},
   "source": [
    "### Priority cities"
   ]
  },
  {
   "cell_type": "markdown",
   "metadata": {},
   "source": [
    "- El Nido, Philippines\n",
    "- Coron, Philippines \n",
    "- Puerto Princesa, Philippines\n",
    "- Davao City, Philippines\n",
    "- Tashkent, Uzbekistan\n",
    "- West Bank\n",
    "- Lima, Peru\n",
    "- Vinh Long, Vietnam\n",
    "- Khan Hoa, Vietnam\n",
    "- Osh, Kyrgyz\n",
    "- Monrovia, Liberia\n"
   ]
  },
  {
   "cell_type": "code",
   "execution_count": 31,
   "metadata": {},
   "outputs": [
    {
     "data": {
      "text/plain": [
       "['Puerto Princesa',\n",
       " 'West Bank',\n",
       " 'Davao',\n",
       " 'Coron',\n",
       " 'Khan Hoa',\n",
       " 'Bethlehem',\n",
       " 'Monrovia',\n",
       " 'Hebron',\n",
       " 'Osh',\n",
       " 'El Nido',\n",
       " 'Lima',\n",
       " 'Tashkent',\n",
       " 'Penang',\n",
       " 'Vinh Long']"
      ]
     },
     "execution_count": 31,
     "metadata": {},
     "output_type": "execute_result"
    }
   ],
   "source": [
    "city"
   ]
  },
  {
   "cell_type": "code",
   "execution_count": null,
   "metadata": {},
   "outputs": [
    {
     "name": "stdout",
     "output_type": "stream",
     "text": [
      "Fetching graph data for Puerto Princesa\n",
      "Writing graph file\n",
      "0.32 minutes elapsed!\n",
      "Getting node centrality\n",
      "1.33 minutes elapsed!\n",
      "Getting edge centrality\n",
      "10.92 minutes elapsed!\n",
      "Saving output gdf\n"
     ]
    },
    {
     "name": "stderr",
     "output_type": "stream",
     "text": [
      "/nfshome/gb1877/.conda/envs/osmpython/lib/python3.6/site-packages/geopandas/io/file.py:108: FionaDeprecationWarning: Use fiona.Env() instead.\n",
      "  with fiona.drivers():\n",
      "WARNING:fiona._env:Normalized/laundered field name: 'node_centrality' to 'node_centr'\n",
      "WARNING:fiona._env:Normalized/laundered field name: 'edge_centrality' to 'edge_centr'\n"
     ]
    },
    {
     "name": "stdout",
     "output_type": "stream",
     "text": [
      "11.07 minutes elapsed!\n",
      "Getting extended stats\n",
      "13.36 minutes elapsed!\n",
      "Getting basic stats\n",
      "CPU times: user 13min 14s, sys: 720 ms, total: 13min 15s\n",
      "Wall time: 13min 21s\n",
      "Fetching graph data for West Bank\n",
      "Writing graph file\n",
      "0.93 minutes elapsed!\n",
      "Getting node centrality\n",
      "8.34 minutes elapsed!\n",
      "Getting edge centrality\n",
      "86.47 minutes elapsed!\n",
      "Saving output gdf\n"
     ]
    },
    {
     "name": "stderr",
     "output_type": "stream",
     "text": [
      "WARNING:fiona._env:Normalized/laundered field name: 'node_centrality' to 'node_centr'\n",
      "WARNING:fiona._env:Normalized/laundered field name: 'edge_centrality' to 'edge_centr'\n"
     ]
    },
    {
     "name": "stdout",
     "output_type": "stream",
     "text": [
      "86.86 minutes elapsed!\n",
      "Getting extended stats\n",
      "103.25 minutes elapsed!\n",
      "Getting basic stats\n",
      "CPU times: user 1h 43min 12s, sys: 1.96 s, total: 1h 43min 14s\n",
      "Wall time: 1h 43min 16s\n",
      "Fetching graph data for Davao\n",
      "Writing graph file\n",
      "0.54 minutes elapsed!\n",
      "Getting node centrality\n",
      "3.88 minutes elapsed!\n",
      "Getting edge centrality\n",
      "36.33 minutes elapsed!\n",
      "Saving output gdf\n"
     ]
    },
    {
     "name": "stderr",
     "output_type": "stream",
     "text": [
      "WARNING:fiona._env:Normalized/laundered field name: 'node_centrality' to 'node_centr'\n",
      "WARNING:fiona._env:Normalized/laundered field name: 'edge_centrality' to 'edge_centr'\n"
     ]
    },
    {
     "name": "stdout",
     "output_type": "stream",
     "text": [
      "36.59 minutes elapsed!\n",
      "Getting extended stats\n",
      "43.97 minutes elapsed!\n",
      "Getting basic stats\n",
      "CPU times: user 43min 55s, sys: 1.16 s, total: 43min 56s\n",
      "Wall time: 43min 58s\n",
      "Fetching graph data for Coron\n",
      "Writing graph file\n",
      "0.03 minutes elapsed!\n",
      "Getting node centrality\n",
      "0.03 minutes elapsed!\n",
      "Getting edge centrality\n"
     ]
    },
    {
     "name": "stderr",
     "output_type": "stream",
     "text": [
      "WARNING:fiona._env:Normalized/laundered field name: 'node_centrality' to 'node_centr'\n"
     ]
    },
    {
     "name": "stdout",
     "output_type": "stream",
     "text": [
      "0.03 minutes elapsed!\n",
      "Saving output gdf\n"
     ]
    },
    {
     "name": "stderr",
     "output_type": "stream",
     "text": [
      "WARNING:fiona._env:Normalized/laundered field name: 'edge_centrality' to 'edge_centr'\n"
     ]
    },
    {
     "name": "stdout",
     "output_type": "stream",
     "text": [
      "0.04 minutes elapsed!\n",
      "Getting extended stats\n",
      "0.04 minutes elapsed!\n",
      "Getting basic stats\n",
      "CPU times: user 1.51 s, sys: 4 ms, total: 1.51 s\n",
      "Wall time: 2.53 s\n",
      "Fetching graph data for Khan Hoa\n",
      "Writing graph file\n",
      "1.07 minutes elapsed!\n",
      "Getting node centrality\n",
      "5.12 minutes elapsed!\n",
      "Getting edge centrality\n",
      "44.68 minutes elapsed!\n",
      "Saving output gdf\n"
     ]
    },
    {
     "name": "stderr",
     "output_type": "stream",
     "text": [
      "WARNING:fiona._env:Normalized/laundered field name: 'node_centrality' to 'node_centr'\n",
      "WARNING:fiona._env:Normalized/laundered field name: 'edge_centrality' to 'edge_centr'\n"
     ]
    },
    {
     "name": "stdout",
     "output_type": "stream",
     "text": [
      "45.0 minutes elapsed!\n",
      "Getting extended stats\n",
      "54.33 minutes elapsed!\n",
      "Getting basic stats\n",
      "CPU times: user 54min 10s, sys: 1.69 s, total: 54min 12s\n",
      "Wall time: 54min 21s\n",
      "Fetching graph data for Bethlehem\n",
      "Writing graph file\n",
      "0.91 minutes elapsed!\n",
      "Getting node centrality\n",
      "2.25 minutes elapsed!\n",
      "Getting edge centrality\n",
      "10.65 minutes elapsed!\n",
      "Saving output gdf\n"
     ]
    },
    {
     "name": "stderr",
     "output_type": "stream",
     "text": [
      "WARNING:fiona._env:Normalized/laundered field name: 'node_centrality' to 'node_centr'\n",
      "WARNING:fiona._env:Normalized/laundered field name: 'edge_centrality' to 'edge_centr'\n"
     ]
    },
    {
     "name": "stdout",
     "output_type": "stream",
     "text": [
      "10.81 minutes elapsed!\n",
      "Getting extended stats\n",
      "13.37 minutes elapsed!\n",
      "Getting basic stats\n",
      "CPU times: user 13min 21s, sys: 1.06 s, total: 13min 22s\n",
      "Wall time: 13min 23s\n",
      "Fetching graph data for Monrovia\n",
      "Writing graph file\n",
      "1.05 minutes elapsed!\n",
      "Getting node centrality\n",
      "8.29 minutes elapsed!\n",
      "Getting edge centrality\n",
      "59.8 minutes elapsed!\n",
      "Saving output gdf\n"
     ]
    },
    {
     "name": "stderr",
     "output_type": "stream",
     "text": [
      "WARNING:fiona._env:Normalized/laundered field name: 'node_centrality' to 'node_centr'\n",
      "WARNING:fiona._env:Normalized/laundered field name: 'edge_centrality' to 'edge_centr'\n"
     ]
    },
    {
     "name": "stdout",
     "output_type": "stream",
     "text": [
      "60.12 minutes elapsed!\n",
      "Getting extended stats\n",
      "73.85 minutes elapsed!\n",
      "Getting basic stats\n",
      "CPU times: user 1h 13min 49s, sys: 1.98 s, total: 1h 13min 51s\n",
      "Wall time: 1h 13min 52s\n",
      "Fetching graph data for Hebron\n",
      "Writing graph file\n",
      "4.36 minutes elapsed!\n",
      "Getting node centrality\n"
     ]
    }
   ],
   "source": [
    "for i in city:\n",
    "    %time get_edge_centrality(i)"
   ]
  },
  {
   "cell_type": "code",
   "execution_count": 8,
   "metadata": {},
   "outputs": [
    {
     "name": "stdout",
     "output_type": "stream",
     "text": [
      "Fetching graph data for Tashkent, Uzbekistan\n",
      "Writing graph file\n",
      "1.33 minutes elapsed!\n",
      "Getting node centrality\n",
      "25.43 minutes elapsed!\n",
      "Getting edge centrality\n",
      "235.26 minutes elapsed!\n",
      "Saving output gdf\n"
     ]
    },
    {
     "name": "stderr",
     "output_type": "stream",
     "text": [
      "/nfshome/gb1877/.conda/envs/osmpython/lib/python3.6/site-packages/geopandas/io/file.py:108: FionaDeprecationWarning: Use fiona.Env() instead.\n",
      "  with fiona.drivers():\n"
     ]
    },
    {
     "name": "stdout",
     "output_type": "stream",
     "text": [
      "235.99 minutes elapsed!\n",
      "Getting extended stats\n",
      "292.0 minutes elapsed!\n",
      "Getting basic stats\n",
      "CPU times: user 4h 51min 34s, sys: 11.6 s, total: 4h 51min 45s\n",
      "Wall time: 4h 52min 2s\n"
     ]
    }
   ],
   "source": [
    "%time get_edge_centrality('Tashkent, Uzbekistan')"
   ]
  },
  {
   "cell_type": "code",
   "execution_count": 9,
   "metadata": {},
   "outputs": [
    {
     "name": "stdout",
     "output_type": "stream",
     "text": [
      "Fetching graph data for Vinh Long, Vietnam\n",
      "Writing graph file\n",
      "0.06 minutes elapsed!\n",
      "Getting node centrality\n",
      "0.09 minutes elapsed!\n",
      "Getting edge centrality\n",
      "0.41 minutes elapsed!\n",
      "Saving output gdf\n",
      "0.45 minutes elapsed!\n",
      "Getting extended stats\n",
      "0.54 minutes elapsed!\n",
      "Getting basic stats\n",
      "CPU times: user 30.8 s, sys: 144 ms, total: 30.9 s\n",
      "Wall time: 32.2 s\n"
     ]
    }
   ],
   "source": [
    "%time get_edge_centrality('Vinh Long, Vietnam')"
   ]
  },
  {
   "cell_type": "code",
   "execution_count": null,
   "metadata": {},
   "outputs": [],
   "source": []
  }
 ],
 "metadata": {
  "kernelspec": {
   "display_name": "OSMPython",
   "language": "python",
   "name": "osmpython"
  },
  "language_info": {
   "codemirror_mode": {
    "name": "ipython",
    "version": 3
   },
   "file_extension": ".py",
   "mimetype": "text/x-python",
   "name": "python",
   "nbconvert_exporter": "python",
   "pygments_lexer": "ipython3",
   "version": "3.6.7"
  }
 },
 "nbformat": 4,
 "nbformat_minor": 2
}
