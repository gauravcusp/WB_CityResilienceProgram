{
 "cells": [
  {
   "cell_type": "code",
   "execution_count": 2,
   "metadata": {},
   "outputs": [
    {
     "name": "stdout",
     "output_type": "stream",
     "text": [
      "peartree version: 0.6.1 \n",
      "networkx version: 2.2 \n",
      "matplotlib version: 3.0.2 \n",
      "osmnx version: 0.9 \n"
     ]
    }
   ],
   "source": [
    "import importlib\n",
    "import sys,os,math,time\n",
    "\n",
    "import networkx as nx\n",
    "import geopandas as gpd\n",
    "import numpy as np\n",
    "import osmnx as ox\n",
    "import pandas as pd\n",
    "import rasterio\n",
    "import pylab as plt\n",
    "import json\n",
    "import datetime\n",
    "import pycrs\n",
    "import seaborn as sns\n",
    "from glob import glob\n",
    "from rasterio.plot import show, show_hist\n",
    "from rasterio.mask import mask\n",
    "from shapely.geometry import Point\n",
    "from shapely.geometry import LineString\n",
    "sys.path.append('GOSTNets')\n",
    "\n",
    "import GOSTnet as gn\n",
    "from pandana.loaders import osm;\n",
    "\n",
    "from osgeo import gdal, gdalconst, gdal_array\n",
    "from rasterstats import point_query, zonal_stats\n",
    "from make_fishnet import make_fishnet"
   ]
  },
  {
   "cell_type": "markdown",
   "metadata": {},
   "source": [
    "## Functions"
   ]
  },
  {
   "cell_type": "code",
   "execution_count": 3,
   "metadata": {},
   "outputs": [],
   "source": [
    "def get_amenities(string, tag):\n",
    "    \n",
    "    if tag == 'healthcare':\n",
    "        amenities = ['hospital', 'doctor', 'healthcare']\n",
    "    elif tag=='schools':\n",
    "        amenities = ['school', 'university', 'college']\n",
    "    else:\n",
    "        print('Invalid tag. Enter either healthcare or schools.')\n",
    "\n",
    "\n",
    "    osm_tags = '\"amenity\"~\"{}\"'.format('|'.join(amenities))\n",
    "\n",
    "    #pois = osm.node_query(coords[0],coords[1],coords[2],coords[3],tags=osm_tags) # required: lat_min, lng_min, lat_max, lng_max\n",
    "    \n",
    "    poly = get_polygon(string) ### minx\tminy\tmaxx\tmaxy\n",
    "    \n",
    "    extent = poly.bounds\n",
    "\n",
    "    pois = osm.node_query(extent[1], extent[0], extent[3], extent[2], tags=osm_tags)\n",
    "\n",
    "    pois = pois[pois['amenity'].isin(amenities)]\n",
    "\n",
    "    try:\n",
    "        osm_data = pois[['amenity', 'lat', 'lon', 'name', 'name:en']]\n",
    "    except:\n",
    "        osm_data = pois[['amenity', 'lat', 'lon', 'name']]\n",
    "\n",
    "\n",
    "    osm_data['geometry'] = (list(zip(osm_data.lon,osm_data.lat)))\n",
    "    osm_data['geometry'] = osm_data.geometry.apply(lambda x: Point(x))\n",
    "    osm_data = gpd.GeoDataFrame(osm_data, geometry='geometry')\n",
    "    \n",
    "    osm_data.crs = {'init':'epsg:4326'}\n",
    "    string = str(string)\n",
    "    print('Saving OSM data to shapefile at path data/{}'.format(string))\n",
    "    #osm_data.to_file('data/{}/{}_{}.shp'.format(string, string, tag))\n",
    "    \n",
    "    return osm_data"
   ]
  },
  {
   "cell_type": "code",
   "execution_count": 4,
   "metadata": {},
   "outputs": [],
   "source": [
    "def get_polygon(string):\n",
    "    \n",
    "    lis = glob('/nfshome/gb1877/gb1877/WorldBank/CRP/Betweenness_Centrality/data/AOI/*/*.shp')\n",
    "    \n",
    "    city = []\n",
    "    for i in lis:\n",
    "        x = i.split('/')[-2]\n",
    "        city.append(x.split('_')[0])\n",
    "        \n",
    "    if string in city:\n",
    "        l = glob('/nfshome/gb1877/gb1877/WorldBank/CRP/Betweenness_Centrality/data/AOI/{}_AOI/*.shp'.format(string))\n",
    "        adm = gpd.GeoDataFrame.from_file(l[0])\n",
    "        boundary_poly = adm.geometry.values[0]\n",
    "    else:\n",
    "        boundary_GDF = ox.gdf_from_place('{}'.format(string),which_result=1)\n",
    "        boundary_poly = boundary_GDF.loc[0,'geometry']\n",
    "        if boundary_poly.geom_type == 'Polygon':\n",
    "            boundary_poly = boundary_poly\n",
    "        else:\n",
    "            try:\n",
    "                boundary_GDF = ox.gdf_from_place('{}'.format(string),which_result=2)\n",
    "                boundary_poly = boundary_GDF.loc[0,'geometry']\n",
    "            except:\n",
    "                print('Polygon not available')\n",
    "    \n",
    "    return boundary_poly"
   ]
  },
  {
   "cell_type": "code",
   "execution_count": 5,
   "metadata": {},
   "outputs": [],
   "source": [
    "def get_graph(string, boundary_GDF, network_type):\n",
    "    \n",
    "    print('Fetching graph data for {}'.format(string))\n",
    "\n",
    "    G = ox.graph_from_polygon(get_polygon(string), network_type = network_type)\n",
    "    \n",
    "    node_dict = {}\n",
    "\n",
    "    G2 = G.copy()\n",
    "\n",
    "    for u, data in G2.nodes(data = True):\n",
    "        node_dict[u] = Point(data['x'],data['y'])\n",
    "\n",
    "    for u, v, data in G2.edges(data = True):\n",
    "\n",
    "        if 'Wkt' not in data.keys():\n",
    "            strt = node_dict[u]\n",
    "            fini = node_dict[v]\n",
    "            data['Wkt'] = LineString([strt, fini])\n",
    "\n",
    "        if 'geometry' in data.keys():\n",
    "            data['Wkt'] = data['geometry']\n",
    "            data.pop('geometry')\n",
    "            \n",
    "    importlib.reload(gn)\n",
    "    G3 = gn.salt_long_lines(G2,\n",
    "                           source = 'epsg:4326',\n",
    "                          target = 'epsg:28411',\n",
    "                          thresh = 50,\n",
    "                          factor = 1)\n",
    "    \n",
    "    return G3\n",
    "    "
   ]
  },
  {
   "cell_type": "code",
   "execution_count": 6,
   "metadata": {},
   "outputs": [],
   "source": [
    "def get_time(t1, t2):\n",
    "    \n",
    "    diff = t2 - t1\n",
    "    \n",
    "    c = round(diff.total_seconds() / 60, 2)\n",
    "    \n",
    "    return c"
   ]
  },
  {
   "cell_type": "code",
   "execution_count": 8,
   "metadata": {},
   "outputs": [],
   "source": [
    "def get_accessibility(place, grid_size=100):\n",
    "        \n",
    "    t1= datetime.datetime.now()\n",
    "    string = place.split(',')[0]\n",
    "    \n",
    "    boundary_GDF = ox.gdf_from_place('{}'.format(string),which_result=1)\n",
    "    \n",
    "    osm_schools = get_amenities(string, 'schools')\n",
    "    \n",
    "    osm_hosp = get_amenities(string, 'healthcare')\n",
    "\n",
    "    t2 = datetime.datetime.now()\n",
    "    \n",
    "    print('{} minutes elapsed!'.format(get_time(t1, t2)))\n",
    "    #### For drive network\n",
    "    \n",
    "    G_drive = get_graph(string,boundary_GDF, 'drive')\n",
    "    \n",
    "    t3 = datetime.datetime.now()\n",
    "    \n",
    "    print('{} minutes elapsed!'.format(get_time(t1, t3)))\n",
    "    print('Snapping OSM data to drive network')\n",
    "    \n",
    "    schools = gn.pandana_snap(G_drive, osm_schools, add_dist_to_node_col=True)\n",
    "    \n",
    "    health = gn.pandana_snap(G_drive, osm_hosp, add_dist_to_node_col=True)\n",
    "    \n",
    "    #node_gdf_drive = ox.graph_to_gdfs(G_drive, nodes=True, edges=False)\n",
    "    #node_gdf_drive = gn.pandana_snap(G_drive, node_gdf_drive)\n",
    "    \n",
    "    t4 = datetime.datetime.now()\n",
    "    \n",
    "    print('{} minutes elapsed!'.format(get_time(t1, t4)))\n",
    "    \n",
    "    fail_value = 99999999\n",
    "    \n",
    "    print('Creating fishnet')\n",
    "    make_fishnet('data/{a}/{b}_{c}_grid.shp'.format(a=string,b=string, c='fishnet'),boundary_GDF.bbox_west[0],\\\n",
    "             boundary_GDF.bbox_east[0], boundary_GDF.bbox_south[0],  boundary_GDF.bbox_north[0],grid_size,grid_size) # takes xmin, xmax, ymin, ymax   \n",
    "    \n",
    "    \n",
    "    grid=gpd.read_file('data/{a}/{b}_{c}_grid.shp'.format(a=string,b=string, c='fishnet'))\n",
    "    \n",
    "    grid['centroid'] = grid.geometry.centroid\n",
    "    grid_graph = grid[['FID', 'centroid']]\n",
    "    grid_graph = gpd.GeoDataFrame(grid_graph, geometry = 'centroid')\n",
    "    grid_graph['geometry'] = grid_graph.centroid\n",
    "    \n",
    "    grid_graph = gn.pandana_snap(G_drive, grid_graph, add_dist_to_node_col=True)\n",
    "    \n",
    "    t5 = datetime.datetime.now()\n",
    "    \n",
    "    print('{} minutes elapsed!'.format(get_time(t1, t5)))\n",
    "    \n",
    "    importlib.reload(gn)\n",
    "    print('Calculating OD matrix for drive network')\n",
    "    #schools_OD_drive = gn.calculate_OD(G=G_drive, origins=list(node_gdf_drive.NN), destinations = list(schools.NN), \n",
    "    #                             fail_value = fail_value, weight='time')\n",
    "    \n",
    "    #health_OD_drive = gn.calculate_OD(G=G_drive, origins=list(node_gdf_drive.NN), destinations = list(health.NN), \n",
    "    #                         fail_value = fail_value, weight='time')\n",
    "    \n",
    "    schools_OD_drive = gn.calculate_OD(G=G_drive, origins=list(grid_graph.NN), destinations = list(schools.NN), \n",
    "                                 fail_value = fail_value, weight='NN_dist')\n",
    "    \n",
    "    health_OD_drive = gn.calculate_OD(G=G_drive, origins=list(grid_graph.NN), destinations = list(health.NN), \n",
    "                             fail_value = fail_value, weight='NN_dist')\n",
    "    \n",
    "    #node_gdf_drive['distance_school'] = [schools_OD_drive[i].min() for i in range(schools_OD_drive.shape[0])]\n",
    "    #node_gdf_drive['distance_hospital'] = [health_OD_drive[i].min() for i in range(health_OD_drive.shape[0])]\n",
    "    \n",
    "    grid_graph['school_drive'] = [schools_OD_drive[i].min() for i in range(schools_OD_drive.shape[0])]\n",
    "    grid_graph['hosp_drive'] = [health_OD_drive[i].min() for i in range(health_OD_drive.shape[0])]\n",
    "    \n",
    "    grid['total_school'] = grid_graph.school_drive + grid_graph.NN_dist\n",
    "    grid['total_hosp'] = grid_graph.hosp_drive + grid_graph.NN_dist\n",
    "    \n",
    "    \n",
    "    \n",
    "    grid.drop(columns=['centroid'], inplace=True)\n",
    "    #grid.crs = {'init':'epsg:4326'}\n",
    "    print('Writing output file!!')\n",
    "    grid.to_file('data/{}/Access_School_Hosp_{}_{}.shp'.format(string, string, grid_size))\n",
    "    print('Done!!!')"
   ]
  },
  {
   "cell_type": "code",
   "execution_count": 19,
   "metadata": {},
   "outputs": [
    {
     "name": "stderr",
     "output_type": "stream",
     "text": [
      "/nfshome/gb1877/.conda/envs/osm2/lib/python3.6/site-packages/ipykernel_launcher.py:29: SettingWithCopyWarning: \n",
      "A value is trying to be set on a copy of a slice from a DataFrame.\n",
      "Try using .loc[row_indexer,col_indexer] = value instead\n",
      "\n",
      "See the caveats in the documentation: http://pandas.pydata.org/pandas-docs/stable/indexing.html#indexing-view-versus-copy\n",
      "/nfshome/gb1877/.conda/envs/osm2/lib/python3.6/site-packages/ipykernel_launcher.py:30: SettingWithCopyWarning: \n",
      "A value is trying to be set on a copy of a slice from a DataFrame.\n",
      "Try using .loc[row_indexer,col_indexer] = value instead\n",
      "\n",
      "See the caveats in the documentation: http://pandas.pydata.org/pandas-docs/stable/indexing.html#indexing-view-versus-copy\n"
     ]
    },
    {
     "name": "stdout",
     "output_type": "stream",
     "text": [
      "0.06 minutes elapsed!\n",
      "Fetching graph data for Tashkent\n",
      "peartree version: 0.6.1 \n",
      "networkx version: 2.2 \n",
      "matplotlib version: 3.0.2 \n",
      "osmnx version: 0.9 \n",
      "WARNING: \"factor behavior has changed! now divides rather than multiplies. This change brings gn.salt_long_lines into line with gn.convert_network_to_time\" \n",
      "Identified 17539 unique edge(s) longer than 50. \n",
      "Beginning new node creation...\n",
      "152200 new edges added and 30568 removed to bring total edges to 158832\n",
      "58561 new nodes added to bring total nodes to 73338\n",
      "2.03 minutes elapsed!\n",
      "Snapping OSM data to drive network\n",
      "2.4 minutes elapsed!\n",
      "peartree version: 0.6.1 \n",
      "networkx version: 2.2 \n",
      "matplotlib version: 3.0.2 \n",
      "osmnx version: 0.9 \n",
      "Calculating OD matrix for drive network\n",
      "print origins type\n",
      "<class 'list'>\n",
      "weighted_origins equals false\n",
      "print origins type\n",
      "<class 'list'>\n",
      "weighted_origins equals false\n",
      "4.13 minutes elapsed!\n",
      "Fetching graph data for Tashkent\n",
      "peartree version: 0.6.1 \n",
      "networkx version: 2.2 \n",
      "matplotlib version: 3.0.2 \n",
      "osmnx version: 0.9 \n",
      "WARNING: \"factor behavior has changed! now divides rather than multiplies. This change brings gn.salt_long_lines into line with gn.convert_network_to_time\" \n",
      "Identified 35618 unique edge(s) longer than 50. \n",
      "Beginning new node creation...\n",
      "250618 new edges added and 71388 removed to bring total edges to 304190\n",
      "89691 new nodes added to bring total nodes to 133356\n",
      "Snapping OSM data to walk network\n",
      "9.27 minutes elapsed!\n",
      "Calculating OD matrix for walk network\n",
      "print origins type\n",
      "<class 'list'>\n",
      "weighted_origins equals false\n",
      "print origins type\n",
      "<class 'list'>\n",
      "weighted_origins equals false\n",
      "Creating fishnet\n",
      "12.89 minutes elapsed!\n",
      "Snapping grid to network\n",
      "14.44 minutes elapsed!\n",
      "Writing output file!!\n"
     ]
    },
    {
     "name": "stderr",
     "output_type": "stream",
     "text": [
      "/nfshome/gb1877/.conda/envs/osm2/lib/python3.6/site-packages/geopandas/io/file.py:108: FionaDeprecationWarning: Use fiona.Env() instead.\n",
      "  with fiona.drivers():\n"
     ]
    }
   ],
   "source": [
    "get_accessibility('Tashkent, Uzbekistan')"
   ]
  },
  {
   "cell_type": "code",
   "execution_count": 20,
   "metadata": {},
   "outputs": [],
   "source": [
    "shp = gpd.GeoDataFrame.from_file('data/Tashkent/Access_School_Hosp_Tashkent.shp')"
   ]
  },
  {
   "cell_type": "code",
   "execution_count": 21,
   "metadata": {},
   "outputs": [
    {
     "data": {
      "text/html": [
       "<div>\n",
       "<style scoped>\n",
       "    .dataframe tbody tr th:only-of-type {\n",
       "        vertical-align: middle;\n",
       "    }\n",
       "\n",
       "    .dataframe tbody tr th {\n",
       "        vertical-align: top;\n",
       "    }\n",
       "\n",
       "    .dataframe thead th {\n",
       "        text-align: right;\n",
       "    }\n",
       "</style>\n",
       "<table border=\"1\" class=\"dataframe\">\n",
       "  <thead>\n",
       "    <tr style=\"text-align: right;\">\n",
       "      <th></th>\n",
       "      <th>FID</th>\n",
       "      <th>drive_scho</th>\n",
       "      <th>drive_hosp</th>\n",
       "      <th>walk_schoo</th>\n",
       "      <th>walk_hosp</th>\n",
       "      <th>total_scho</th>\n",
       "      <th>total_hosp</th>\n",
       "      <th>geometry</th>\n",
       "    </tr>\n",
       "  </thead>\n",
       "  <tbody>\n",
       "    <tr>\n",
       "      <th>0</th>\n",
       "      <td>0</td>\n",
       "      <td>4.0</td>\n",
       "      <td>26.0</td>\n",
       "      <td>0.0</td>\n",
       "      <td>31.0</td>\n",
       "      <td>4.0</td>\n",
       "      <td>57.0</td>\n",
       "      <td>POLYGON ((69.1187079 41.4723363, 69.1196062152...</td>\n",
       "    </tr>\n",
       "    <tr>\n",
       "      <th>1</th>\n",
       "      <td>1</td>\n",
       "      <td>4.0</td>\n",
       "      <td>26.0</td>\n",
       "      <td>0.0</td>\n",
       "      <td>31.0</td>\n",
       "      <td>4.0</td>\n",
       "      <td>57.0</td>\n",
       "      <td>POLYGON ((69.1187079 41.47114325896642, 69.119...</td>\n",
       "    </tr>\n",
       "    <tr>\n",
       "      <th>2</th>\n",
       "      <td>2</td>\n",
       "      <td>0.0</td>\n",
       "      <td>30.0</td>\n",
       "      <td>0.0</td>\n",
       "      <td>31.0</td>\n",
       "      <td>0.0</td>\n",
       "      <td>61.0</td>\n",
       "      <td>POLYGON ((69.1187079 41.46995021793284, 69.119...</td>\n",
       "    </tr>\n",
       "    <tr>\n",
       "      <th>3</th>\n",
       "      <td>3</td>\n",
       "      <td>2.0</td>\n",
       "      <td>32.0</td>\n",
       "      <td>0.0</td>\n",
       "      <td>31.0</td>\n",
       "      <td>2.0</td>\n",
       "      <td>63.0</td>\n",
       "      <td>POLYGON ((69.1187079 41.46875717689926, 69.119...</td>\n",
       "    </tr>\n",
       "    <tr>\n",
       "      <th>4</th>\n",
       "      <td>4</td>\n",
       "      <td>3.0</td>\n",
       "      <td>33.0</td>\n",
       "      <td>0.0</td>\n",
       "      <td>31.0</td>\n",
       "      <td>3.0</td>\n",
       "      <td>64.0</td>\n",
       "      <td>POLYGON ((69.1187079 41.46756413586568, 69.119...</td>\n",
       "    </tr>\n",
       "  </tbody>\n",
       "</table>\n",
       "</div>"
      ],
      "text/plain": [
       "   FID  drive_scho  drive_hosp  walk_schoo  walk_hosp  total_scho  total_hosp  \\\n",
       "0    0         4.0        26.0         0.0       31.0         4.0        57.0   \n",
       "1    1         4.0        26.0         0.0       31.0         4.0        57.0   \n",
       "2    2         0.0        30.0         0.0       31.0         0.0        61.0   \n",
       "3    3         2.0        32.0         0.0       31.0         2.0        63.0   \n",
       "4    4         3.0        33.0         0.0       31.0         3.0        64.0   \n",
       "\n",
       "                                            geometry  \n",
       "0  POLYGON ((69.1187079 41.4723363, 69.1196062152...  \n",
       "1  POLYGON ((69.1187079 41.47114325896642, 69.119...  \n",
       "2  POLYGON ((69.1187079 41.46995021793284, 69.119...  \n",
       "3  POLYGON ((69.1187079 41.46875717689926, 69.119...  \n",
       "4  POLYGON ((69.1187079 41.46756413586568, 69.119...  "
      ]
     },
     "execution_count": 21,
     "metadata": {},
     "output_type": "execute_result"
    }
   ],
   "source": [
    "shp.head()"
   ]
  },
  {
   "cell_type": "code",
   "execution_count": 37,
   "metadata": {},
   "outputs": [
    {
     "data": {
      "text/plain": [
       "520.0"
      ]
     },
     "execution_count": 37,
     "metadata": {},
     "output_type": "execute_result"
    }
   ],
   "source": [
    "shp.total_scho.max()"
   ]
  },
  {
   "cell_type": "code",
   "execution_count": 39,
   "metadata": {},
   "outputs": [],
   "source": [
    "priority_list = [\n",
    "    'Coron, Philippines', 'Puerto Princesa, Philippines', 'El Nido, Philippines', 'Davao City, Philippines', \n",
    "    'Tashkent, Uzbekistan' 'Hebron, West Bank', 'Bethlehem, West Bank', 'Lima, Peru', 'Vinh Long, Vietnam', \n",
    "    'Khanh Hoa, Vietnam', 'Osh, Kyrgyzstan', 'Monrovia, Liberia'\n",
    "]"
   ]
  },
  {
   "cell_type": "code",
   "execution_count": null,
   "metadata": {},
   "outputs": [
    {
     "name": "stdout",
     "output_type": "stream",
     "text": [
      "Saving OSM data to shapefile at path data/Coron\n"
     ]
    },
    {
     "name": "stderr",
     "output_type": "stream",
     "text": [
      "/nfshome/gb1877/.conda/envs/osm2/lib/python3.6/site-packages/geopandas/io/file.py:108: FionaDeprecationWarning: Use fiona.Env() instead.\n",
      "  with fiona.drivers():\n"
     ]
    },
    {
     "name": "stdout",
     "output_type": "stream",
     "text": [
      "Saving OSM data to shapefile at path data/Coron\n"
     ]
    },
    {
     "ename": "ValueError",
     "evalue": "Cannot write empty DataFrame to file.",
     "output_type": "error",
     "traceback": [
      "\u001b[0;31m---------------------------------------------------------------------------\u001b[0m",
      "\u001b[0;31mValueError\u001b[0m                                Traceback (most recent call last)",
      "\u001b[0;32m<timed eval>\u001b[0m in \u001b[0;36m<module>\u001b[0;34m\u001b[0m\n",
      "\u001b[0;32m<ipython-input-18-c76071a60135>\u001b[0m in \u001b[0;36mget_accessibility\u001b[0;34m(place)\u001b[0m\n\u001b[1;32m      8\u001b[0m     \u001b[0mosm_schools\u001b[0m \u001b[0;34m=\u001b[0m \u001b[0mget_amenities\u001b[0m\u001b[0;34m(\u001b[0m\u001b[0mstring\u001b[0m\u001b[0;34m,\u001b[0m \u001b[0;34m'schools'\u001b[0m\u001b[0;34m)\u001b[0m\u001b[0;34m\u001b[0m\u001b[0;34m\u001b[0m\u001b[0m\n\u001b[1;32m      9\u001b[0m \u001b[0;34m\u001b[0m\u001b[0m\n\u001b[0;32m---> 10\u001b[0;31m     \u001b[0mosm_hosp\u001b[0m \u001b[0;34m=\u001b[0m \u001b[0mget_amenities\u001b[0m\u001b[0;34m(\u001b[0m\u001b[0mstring\u001b[0m\u001b[0;34m,\u001b[0m \u001b[0;34m'healthcare'\u001b[0m\u001b[0;34m)\u001b[0m\u001b[0;34m\u001b[0m\u001b[0;34m\u001b[0m\u001b[0m\n\u001b[0m\u001b[1;32m     11\u001b[0m \u001b[0;34m\u001b[0m\u001b[0m\n\u001b[1;32m     12\u001b[0m     \u001b[0mt2\u001b[0m \u001b[0;34m=\u001b[0m \u001b[0mdatetime\u001b[0m\u001b[0;34m.\u001b[0m\u001b[0mdatetime\u001b[0m\u001b[0;34m.\u001b[0m\u001b[0mnow\u001b[0m\u001b[0;34m(\u001b[0m\u001b[0;34m)\u001b[0m\u001b[0;34m\u001b[0m\u001b[0;34m\u001b[0m\u001b[0m\n",
      "\u001b[0;32m<ipython-input-38-31e48a2c8e3e>\u001b[0m in \u001b[0;36mget_amenities\u001b[0;34m(string, tag)\u001b[0m\n\u001b[1;32m     34\u001b[0m \u001b[0;34m\u001b[0m\u001b[0m\n\u001b[1;32m     35\u001b[0m     \u001b[0mprint\u001b[0m\u001b[0;34m(\u001b[0m\u001b[0;34m'Saving OSM data to shapefile at path data/{}'\u001b[0m\u001b[0;34m.\u001b[0m\u001b[0mformat\u001b[0m\u001b[0;34m(\u001b[0m\u001b[0mstring\u001b[0m\u001b[0;34m)\u001b[0m\u001b[0;34m)\u001b[0m\u001b[0;34m\u001b[0m\u001b[0;34m\u001b[0m\u001b[0m\n\u001b[0;32m---> 36\u001b[0;31m     \u001b[0mosm_data\u001b[0m\u001b[0;34m.\u001b[0m\u001b[0mto_file\u001b[0m\u001b[0;34m(\u001b[0m\u001b[0;34m'data/{}/{}_{}.shp'\u001b[0m\u001b[0;34m.\u001b[0m\u001b[0mformat\u001b[0m\u001b[0;34m(\u001b[0m\u001b[0mstring\u001b[0m\u001b[0;34m,\u001b[0m \u001b[0mstring\u001b[0m\u001b[0;34m,\u001b[0m \u001b[0mtag\u001b[0m\u001b[0;34m)\u001b[0m\u001b[0;34m)\u001b[0m\u001b[0;34m\u001b[0m\u001b[0;34m\u001b[0m\u001b[0m\n\u001b[0m\u001b[1;32m     37\u001b[0m \u001b[0;34m\u001b[0m\u001b[0m\n\u001b[1;32m     38\u001b[0m     \u001b[0;32mreturn\u001b[0m \u001b[0mosm_data\u001b[0m\u001b[0;34m\u001b[0m\u001b[0;34m\u001b[0m\u001b[0m\n",
      "\u001b[0;32m~/.conda/envs/osm2/lib/python3.6/site-packages/geopandas/geodataframe.py\u001b[0m in \u001b[0;36mto_file\u001b[0;34m(self, filename, driver, schema, **kwargs)\u001b[0m\n\u001b[1;32m    411\u001b[0m         \"\"\"\n\u001b[1;32m    412\u001b[0m         \u001b[0;32mfrom\u001b[0m \u001b[0mgeopandas\u001b[0m\u001b[0;34m.\u001b[0m\u001b[0mio\u001b[0m\u001b[0;34m.\u001b[0m\u001b[0mfile\u001b[0m \u001b[0;32mimport\u001b[0m \u001b[0mto_file\u001b[0m\u001b[0;34m\u001b[0m\u001b[0;34m\u001b[0m\u001b[0m\n\u001b[0;32m--> 413\u001b[0;31m         \u001b[0mto_file\u001b[0m\u001b[0;34m(\u001b[0m\u001b[0mself\u001b[0m\u001b[0;34m,\u001b[0m \u001b[0mfilename\u001b[0m\u001b[0;34m,\u001b[0m \u001b[0mdriver\u001b[0m\u001b[0;34m,\u001b[0m \u001b[0mschema\u001b[0m\u001b[0;34m,\u001b[0m \u001b[0;34m**\u001b[0m\u001b[0mkwargs\u001b[0m\u001b[0;34m)\u001b[0m\u001b[0;34m\u001b[0m\u001b[0;34m\u001b[0m\u001b[0m\n\u001b[0m\u001b[1;32m    414\u001b[0m \u001b[0;34m\u001b[0m\u001b[0m\n\u001b[1;32m    415\u001b[0m     \u001b[0;32mdef\u001b[0m \u001b[0mto_crs\u001b[0m\u001b[0;34m(\u001b[0m\u001b[0mself\u001b[0m\u001b[0;34m,\u001b[0m \u001b[0mcrs\u001b[0m\u001b[0;34m=\u001b[0m\u001b[0;32mNone\u001b[0m\u001b[0;34m,\u001b[0m \u001b[0mepsg\u001b[0m\u001b[0;34m=\u001b[0m\u001b[0;32mNone\u001b[0m\u001b[0;34m,\u001b[0m \u001b[0minplace\u001b[0m\u001b[0;34m=\u001b[0m\u001b[0;32mFalse\u001b[0m\u001b[0;34m)\u001b[0m\u001b[0;34m:\u001b[0m\u001b[0;34m\u001b[0m\u001b[0;34m\u001b[0m\u001b[0m\n",
      "\u001b[0;32m~/.conda/envs/osm2/lib/python3.6/site-packages/geopandas/io/file.py\u001b[0m in \u001b[0;36mto_file\u001b[0;34m(df, filename, driver, schema, **kwargs)\u001b[0m\n\u001b[1;32m    104\u001b[0m     \"\"\"\n\u001b[1;32m    105\u001b[0m     \u001b[0;32mif\u001b[0m \u001b[0mschema\u001b[0m \u001b[0;32mis\u001b[0m \u001b[0;32mNone\u001b[0m\u001b[0;34m:\u001b[0m\u001b[0;34m\u001b[0m\u001b[0;34m\u001b[0m\u001b[0m\n\u001b[0;32m--> 106\u001b[0;31m         \u001b[0mschema\u001b[0m \u001b[0;34m=\u001b[0m \u001b[0minfer_schema\u001b[0m\u001b[0;34m(\u001b[0m\u001b[0mdf\u001b[0m\u001b[0;34m)\u001b[0m\u001b[0;34m\u001b[0m\u001b[0;34m\u001b[0m\u001b[0m\n\u001b[0m\u001b[1;32m    107\u001b[0m     \u001b[0mfilename\u001b[0m \u001b[0;34m=\u001b[0m \u001b[0mos\u001b[0m\u001b[0;34m.\u001b[0m\u001b[0mpath\u001b[0m\u001b[0;34m.\u001b[0m\u001b[0mabspath\u001b[0m\u001b[0;34m(\u001b[0m\u001b[0mos\u001b[0m\u001b[0;34m.\u001b[0m\u001b[0mpath\u001b[0m\u001b[0;34m.\u001b[0m\u001b[0mexpanduser\u001b[0m\u001b[0;34m(\u001b[0m\u001b[0mfilename\u001b[0m\u001b[0;34m)\u001b[0m\u001b[0;34m)\u001b[0m\u001b[0;34m\u001b[0m\u001b[0;34m\u001b[0m\u001b[0m\n\u001b[1;32m    108\u001b[0m     \u001b[0;32mwith\u001b[0m \u001b[0mfiona\u001b[0m\u001b[0;34m.\u001b[0m\u001b[0mdrivers\u001b[0m\u001b[0;34m(\u001b[0m\u001b[0;34m)\u001b[0m\u001b[0;34m:\u001b[0m\u001b[0;34m\u001b[0m\u001b[0;34m\u001b[0m\u001b[0m\n",
      "\u001b[0;32m~/.conda/envs/osm2/lib/python3.6/site-packages/geopandas/io/file.py\u001b[0m in \u001b[0;36minfer_schema\u001b[0;34m(df)\u001b[0m\n\u001b[1;32m    136\u001b[0m \u001b[0;34m\u001b[0m\u001b[0m\n\u001b[1;32m    137\u001b[0m     \u001b[0;32mif\u001b[0m \u001b[0mdf\u001b[0m\u001b[0;34m.\u001b[0m\u001b[0mempty\u001b[0m\u001b[0;34m:\u001b[0m\u001b[0;34m\u001b[0m\u001b[0;34m\u001b[0m\u001b[0m\n\u001b[0;32m--> 138\u001b[0;31m         \u001b[0;32mraise\u001b[0m \u001b[0mValueError\u001b[0m\u001b[0;34m(\u001b[0m\u001b[0;34m\"Cannot write empty DataFrame to file.\"\u001b[0m\u001b[0;34m)\u001b[0m\u001b[0;34m\u001b[0m\u001b[0;34m\u001b[0m\u001b[0m\n\u001b[0m\u001b[1;32m    139\u001b[0m \u001b[0;34m\u001b[0m\u001b[0m\n\u001b[1;32m    140\u001b[0m     \u001b[0mgeom_type\u001b[0m \u001b[0;34m=\u001b[0m \u001b[0m_common_geom_type\u001b[0m\u001b[0;34m(\u001b[0m\u001b[0mdf\u001b[0m\u001b[0;34m)\u001b[0m\u001b[0;34m\u001b[0m\u001b[0;34m\u001b[0m\u001b[0m\n",
      "\u001b[0;31mValueError\u001b[0m: Cannot write empty DataFrame to file."
     ]
    },
    {
     "name": "stderr",
     "output_type": "stream",
     "text": [
      "/nfshome/gb1877/.conda/envs/osm2/lib/python3.6/site-packages/ipykernel_launcher.py:29: SettingWithCopyWarning: \n",
      "A value is trying to be set on a copy of a slice from a DataFrame.\n",
      "Try using .loc[row_indexer,col_indexer] = value instead\n",
      "\n",
      "See the caveats in the documentation: http://pandas.pydata.org/pandas-docs/stable/indexing.html#indexing-view-versus-copy\n",
      "/nfshome/gb1877/.conda/envs/osm2/lib/python3.6/site-packages/ipykernel_launcher.py:30: SettingWithCopyWarning: \n",
      "A value is trying to be set on a copy of a slice from a DataFrame.\n",
      "Try using .loc[row_indexer,col_indexer] = value instead\n",
      "\n",
      "See the caveats in the documentation: http://pandas.pydata.org/pandas-docs/stable/indexing.html#indexing-view-versus-copy\n",
      "/nfshome/gb1877/.conda/envs/osm2/lib/python3.6/site-packages/geopandas/io/file.py:108: FionaDeprecationWarning: Use fiona.Env() instead.\n",
      "  with fiona.drivers():\n"
     ]
    },
    {
     "name": "stdout",
     "output_type": "stream",
     "text": [
      "Saving OSM data to shapefile at path data/Puerto Princesa\n",
      "Saving OSM data to shapefile at path data/Puerto Princesa\n"
     ]
    },
    {
     "ename": "ValueError",
     "evalue": "Cannot write empty DataFrame to file.",
     "output_type": "error",
     "traceback": [
      "\u001b[0;31m---------------------------------------------------------------------------\u001b[0m",
      "\u001b[0;31mValueError\u001b[0m                                Traceback (most recent call last)",
      "\u001b[0;32m<timed eval>\u001b[0m in \u001b[0;36m<module>\u001b[0;34m\u001b[0m\n",
      "\u001b[0;32m<ipython-input-18-c76071a60135>\u001b[0m in \u001b[0;36mget_accessibility\u001b[0;34m(place)\u001b[0m\n\u001b[1;32m      8\u001b[0m     \u001b[0mosm_schools\u001b[0m \u001b[0;34m=\u001b[0m \u001b[0mget_amenities\u001b[0m\u001b[0;34m(\u001b[0m\u001b[0mstring\u001b[0m\u001b[0;34m,\u001b[0m \u001b[0;34m'schools'\u001b[0m\u001b[0;34m)\u001b[0m\u001b[0;34m\u001b[0m\u001b[0;34m\u001b[0m\u001b[0m\n\u001b[1;32m      9\u001b[0m \u001b[0;34m\u001b[0m\u001b[0m\n\u001b[0;32m---> 10\u001b[0;31m     \u001b[0mosm_hosp\u001b[0m \u001b[0;34m=\u001b[0m \u001b[0mget_amenities\u001b[0m\u001b[0;34m(\u001b[0m\u001b[0mstring\u001b[0m\u001b[0;34m,\u001b[0m \u001b[0;34m'healthcare'\u001b[0m\u001b[0;34m)\u001b[0m\u001b[0;34m\u001b[0m\u001b[0;34m\u001b[0m\u001b[0m\n\u001b[0m\u001b[1;32m     11\u001b[0m \u001b[0;34m\u001b[0m\u001b[0m\n\u001b[1;32m     12\u001b[0m     \u001b[0mt2\u001b[0m \u001b[0;34m=\u001b[0m \u001b[0mdatetime\u001b[0m\u001b[0;34m.\u001b[0m\u001b[0mdatetime\u001b[0m\u001b[0;34m.\u001b[0m\u001b[0mnow\u001b[0m\u001b[0;34m(\u001b[0m\u001b[0;34m)\u001b[0m\u001b[0;34m\u001b[0m\u001b[0;34m\u001b[0m\u001b[0m\n",
      "\u001b[0;32m<ipython-input-38-31e48a2c8e3e>\u001b[0m in \u001b[0;36mget_amenities\u001b[0;34m(string, tag)\u001b[0m\n\u001b[1;32m     34\u001b[0m \u001b[0;34m\u001b[0m\u001b[0m\n\u001b[1;32m     35\u001b[0m     \u001b[0mprint\u001b[0m\u001b[0;34m(\u001b[0m\u001b[0;34m'Saving OSM data to shapefile at path data/{}'\u001b[0m\u001b[0;34m.\u001b[0m\u001b[0mformat\u001b[0m\u001b[0;34m(\u001b[0m\u001b[0mstring\u001b[0m\u001b[0;34m)\u001b[0m\u001b[0;34m)\u001b[0m\u001b[0;34m\u001b[0m\u001b[0;34m\u001b[0m\u001b[0m\n\u001b[0;32m---> 36\u001b[0;31m     \u001b[0mosm_data\u001b[0m\u001b[0;34m.\u001b[0m\u001b[0mto_file\u001b[0m\u001b[0;34m(\u001b[0m\u001b[0;34m'data/{}/{}_{}.shp'\u001b[0m\u001b[0;34m.\u001b[0m\u001b[0mformat\u001b[0m\u001b[0;34m(\u001b[0m\u001b[0mstring\u001b[0m\u001b[0;34m,\u001b[0m \u001b[0mstring\u001b[0m\u001b[0;34m,\u001b[0m \u001b[0mtag\u001b[0m\u001b[0;34m)\u001b[0m\u001b[0;34m)\u001b[0m\u001b[0;34m\u001b[0m\u001b[0;34m\u001b[0m\u001b[0m\n\u001b[0m\u001b[1;32m     37\u001b[0m \u001b[0;34m\u001b[0m\u001b[0m\n\u001b[1;32m     38\u001b[0m     \u001b[0;32mreturn\u001b[0m \u001b[0mosm_data\u001b[0m\u001b[0;34m\u001b[0m\u001b[0;34m\u001b[0m\u001b[0m\n",
      "\u001b[0;32m~/.conda/envs/osm2/lib/python3.6/site-packages/geopandas/geodataframe.py\u001b[0m in \u001b[0;36mto_file\u001b[0;34m(self, filename, driver, schema, **kwargs)\u001b[0m\n\u001b[1;32m    411\u001b[0m         \"\"\"\n\u001b[1;32m    412\u001b[0m         \u001b[0;32mfrom\u001b[0m \u001b[0mgeopandas\u001b[0m\u001b[0;34m.\u001b[0m\u001b[0mio\u001b[0m\u001b[0;34m.\u001b[0m\u001b[0mfile\u001b[0m \u001b[0;32mimport\u001b[0m \u001b[0mto_file\u001b[0m\u001b[0;34m\u001b[0m\u001b[0;34m\u001b[0m\u001b[0m\n\u001b[0;32m--> 413\u001b[0;31m         \u001b[0mto_file\u001b[0m\u001b[0;34m(\u001b[0m\u001b[0mself\u001b[0m\u001b[0;34m,\u001b[0m \u001b[0mfilename\u001b[0m\u001b[0;34m,\u001b[0m \u001b[0mdriver\u001b[0m\u001b[0;34m,\u001b[0m \u001b[0mschema\u001b[0m\u001b[0;34m,\u001b[0m \u001b[0;34m**\u001b[0m\u001b[0mkwargs\u001b[0m\u001b[0;34m)\u001b[0m\u001b[0;34m\u001b[0m\u001b[0;34m\u001b[0m\u001b[0m\n\u001b[0m\u001b[1;32m    414\u001b[0m \u001b[0;34m\u001b[0m\u001b[0m\n\u001b[1;32m    415\u001b[0m     \u001b[0;32mdef\u001b[0m \u001b[0mto_crs\u001b[0m\u001b[0;34m(\u001b[0m\u001b[0mself\u001b[0m\u001b[0;34m,\u001b[0m \u001b[0mcrs\u001b[0m\u001b[0;34m=\u001b[0m\u001b[0;32mNone\u001b[0m\u001b[0;34m,\u001b[0m \u001b[0mepsg\u001b[0m\u001b[0;34m=\u001b[0m\u001b[0;32mNone\u001b[0m\u001b[0;34m,\u001b[0m \u001b[0minplace\u001b[0m\u001b[0;34m=\u001b[0m\u001b[0;32mFalse\u001b[0m\u001b[0;34m)\u001b[0m\u001b[0;34m:\u001b[0m\u001b[0;34m\u001b[0m\u001b[0;34m\u001b[0m\u001b[0m\n",
      "\u001b[0;32m~/.conda/envs/osm2/lib/python3.6/site-packages/geopandas/io/file.py\u001b[0m in \u001b[0;36mto_file\u001b[0;34m(df, filename, driver, schema, **kwargs)\u001b[0m\n\u001b[1;32m    104\u001b[0m     \"\"\"\n\u001b[1;32m    105\u001b[0m     \u001b[0;32mif\u001b[0m \u001b[0mschema\u001b[0m \u001b[0;32mis\u001b[0m \u001b[0;32mNone\u001b[0m\u001b[0;34m:\u001b[0m\u001b[0;34m\u001b[0m\u001b[0;34m\u001b[0m\u001b[0m\n\u001b[0;32m--> 106\u001b[0;31m         \u001b[0mschema\u001b[0m \u001b[0;34m=\u001b[0m \u001b[0minfer_schema\u001b[0m\u001b[0;34m(\u001b[0m\u001b[0mdf\u001b[0m\u001b[0;34m)\u001b[0m\u001b[0;34m\u001b[0m\u001b[0;34m\u001b[0m\u001b[0m\n\u001b[0m\u001b[1;32m    107\u001b[0m     \u001b[0mfilename\u001b[0m \u001b[0;34m=\u001b[0m \u001b[0mos\u001b[0m\u001b[0;34m.\u001b[0m\u001b[0mpath\u001b[0m\u001b[0;34m.\u001b[0m\u001b[0mabspath\u001b[0m\u001b[0;34m(\u001b[0m\u001b[0mos\u001b[0m\u001b[0;34m.\u001b[0m\u001b[0mpath\u001b[0m\u001b[0;34m.\u001b[0m\u001b[0mexpanduser\u001b[0m\u001b[0;34m(\u001b[0m\u001b[0mfilename\u001b[0m\u001b[0;34m)\u001b[0m\u001b[0;34m)\u001b[0m\u001b[0;34m\u001b[0m\u001b[0;34m\u001b[0m\u001b[0m\n\u001b[1;32m    108\u001b[0m     \u001b[0;32mwith\u001b[0m \u001b[0mfiona\u001b[0m\u001b[0;34m.\u001b[0m\u001b[0mdrivers\u001b[0m\u001b[0;34m(\u001b[0m\u001b[0;34m)\u001b[0m\u001b[0;34m:\u001b[0m\u001b[0;34m\u001b[0m\u001b[0;34m\u001b[0m\u001b[0m\n",
      "\u001b[0;32m~/.conda/envs/osm2/lib/python3.6/site-packages/geopandas/io/file.py\u001b[0m in \u001b[0;36minfer_schema\u001b[0;34m(df)\u001b[0m\n\u001b[1;32m    136\u001b[0m \u001b[0;34m\u001b[0m\u001b[0m\n\u001b[1;32m    137\u001b[0m     \u001b[0;32mif\u001b[0m \u001b[0mdf\u001b[0m\u001b[0;34m.\u001b[0m\u001b[0mempty\u001b[0m\u001b[0;34m:\u001b[0m\u001b[0;34m\u001b[0m\u001b[0;34m\u001b[0m\u001b[0m\n\u001b[0;32m--> 138\u001b[0;31m         \u001b[0;32mraise\u001b[0m \u001b[0mValueError\u001b[0m\u001b[0;34m(\u001b[0m\u001b[0;34m\"Cannot write empty DataFrame to file.\"\u001b[0m\u001b[0;34m)\u001b[0m\u001b[0;34m\u001b[0m\u001b[0;34m\u001b[0m\u001b[0m\n\u001b[0m\u001b[1;32m    139\u001b[0m \u001b[0;34m\u001b[0m\u001b[0m\n\u001b[1;32m    140\u001b[0m     \u001b[0mgeom_type\u001b[0m \u001b[0;34m=\u001b[0m \u001b[0m_common_geom_type\u001b[0m\u001b[0;34m(\u001b[0m\u001b[0mdf\u001b[0m\u001b[0;34m)\u001b[0m\u001b[0;34m\u001b[0m\u001b[0;34m\u001b[0m\u001b[0m\n",
      "\u001b[0;31mValueError\u001b[0m: Cannot write empty DataFrame to file."
     ]
    },
    {
     "ename": "RuntimeError",
     "evalue": "OSM query results contain no data.",
     "output_type": "error",
     "traceback": [
      "\u001b[0;31m---------------------------------------------------------------------------\u001b[0m",
      "\u001b[0;31mRuntimeError\u001b[0m                              Traceback (most recent call last)",
      "\u001b[0;32m<timed eval>\u001b[0m in \u001b[0;36m<module>\u001b[0;34m\u001b[0m\n",
      "\u001b[0;32m<ipython-input-18-c76071a60135>\u001b[0m in \u001b[0;36mget_accessibility\u001b[0;34m(place)\u001b[0m\n\u001b[1;32m      6\u001b[0m     \u001b[0mboundary_GDF\u001b[0m \u001b[0;34m=\u001b[0m \u001b[0mox\u001b[0m\u001b[0;34m.\u001b[0m\u001b[0mgdf_from_place\u001b[0m\u001b[0;34m(\u001b[0m\u001b[0;34m'{}'\u001b[0m\u001b[0;34m.\u001b[0m\u001b[0mformat\u001b[0m\u001b[0;34m(\u001b[0m\u001b[0mstring\u001b[0m\u001b[0;34m)\u001b[0m\u001b[0;34m,\u001b[0m\u001b[0mwhich_result\u001b[0m\u001b[0;34m=\u001b[0m\u001b[0;36m1\u001b[0m\u001b[0;34m)\u001b[0m\u001b[0;34m\u001b[0m\u001b[0;34m\u001b[0m\u001b[0m\n\u001b[1;32m      7\u001b[0m \u001b[0;34m\u001b[0m\u001b[0m\n\u001b[0;32m----> 8\u001b[0;31m     \u001b[0mosm_schools\u001b[0m \u001b[0;34m=\u001b[0m \u001b[0mget_amenities\u001b[0m\u001b[0;34m(\u001b[0m\u001b[0mstring\u001b[0m\u001b[0;34m,\u001b[0m \u001b[0;34m'schools'\u001b[0m\u001b[0;34m)\u001b[0m\u001b[0;34m\u001b[0m\u001b[0;34m\u001b[0m\u001b[0m\n\u001b[0m\u001b[1;32m      9\u001b[0m \u001b[0;34m\u001b[0m\u001b[0m\n\u001b[1;32m     10\u001b[0m     \u001b[0mosm_hosp\u001b[0m \u001b[0;34m=\u001b[0m \u001b[0mget_amenities\u001b[0m\u001b[0;34m(\u001b[0m\u001b[0mstring\u001b[0m\u001b[0;34m,\u001b[0m \u001b[0;34m'healthcare'\u001b[0m\u001b[0;34m)\u001b[0m\u001b[0;34m\u001b[0m\u001b[0;34m\u001b[0m\u001b[0m\n",
      "\u001b[0;32m<ipython-input-38-31e48a2c8e3e>\u001b[0m in \u001b[0;36mget_amenities\u001b[0;34m(string, tag)\u001b[0m\n\u001b[1;32m     17\u001b[0m     \u001b[0mextent\u001b[0m \u001b[0;34m=\u001b[0m \u001b[0mpoly\u001b[0m\u001b[0;34m.\u001b[0m\u001b[0mbounds\u001b[0m\u001b[0;34m\u001b[0m\u001b[0;34m\u001b[0m\u001b[0m\n\u001b[1;32m     18\u001b[0m \u001b[0;34m\u001b[0m\u001b[0m\n\u001b[0;32m---> 19\u001b[0;31m     \u001b[0mpois\u001b[0m \u001b[0;34m=\u001b[0m \u001b[0mosm\u001b[0m\u001b[0;34m.\u001b[0m\u001b[0mnode_query\u001b[0m\u001b[0;34m(\u001b[0m\u001b[0mextent\u001b[0m\u001b[0;34m[\u001b[0m\u001b[0;36m1\u001b[0m\u001b[0;34m]\u001b[0m\u001b[0;34m,\u001b[0m \u001b[0mextent\u001b[0m\u001b[0;34m[\u001b[0m\u001b[0;36m0\u001b[0m\u001b[0;34m]\u001b[0m\u001b[0;34m,\u001b[0m \u001b[0mextent\u001b[0m\u001b[0;34m[\u001b[0m\u001b[0;36m3\u001b[0m\u001b[0;34m]\u001b[0m\u001b[0;34m,\u001b[0m \u001b[0mextent\u001b[0m\u001b[0;34m[\u001b[0m\u001b[0;36m2\u001b[0m\u001b[0;34m]\u001b[0m\u001b[0;34m,\u001b[0m \u001b[0mtags\u001b[0m\u001b[0;34m=\u001b[0m\u001b[0mosm_tags\u001b[0m\u001b[0;34m)\u001b[0m\u001b[0;34m\u001b[0m\u001b[0;34m\u001b[0m\u001b[0m\n\u001b[0m\u001b[1;32m     20\u001b[0m \u001b[0;34m\u001b[0m\u001b[0m\n\u001b[1;32m     21\u001b[0m     \u001b[0mpois\u001b[0m \u001b[0;34m=\u001b[0m \u001b[0mpois\u001b[0m\u001b[0;34m[\u001b[0m\u001b[0mpois\u001b[0m\u001b[0;34m[\u001b[0m\u001b[0;34m'amenity'\u001b[0m\u001b[0;34m]\u001b[0m\u001b[0;34m.\u001b[0m\u001b[0misin\u001b[0m\u001b[0;34m(\u001b[0m\u001b[0mamenities\u001b[0m\u001b[0;34m)\u001b[0m\u001b[0;34m]\u001b[0m\u001b[0;34m\u001b[0m\u001b[0;34m\u001b[0m\u001b[0m\n",
      "\u001b[0;32m~/.conda/envs/osm2/lib/python3.6/site-packages/pandana/loaders/osm.py\u001b[0m in \u001b[0;36mnode_query\u001b[0;34m(lat_min, lng_min, lat_max, lng_max, tags)\u001b[0m\n\u001b[1;32m    184\u001b[0m \u001b[0;34m\u001b[0m\u001b[0m\n\u001b[1;32m    185\u001b[0m     \u001b[0;32mif\u001b[0m \u001b[0mlen\u001b[0m\u001b[0;34m(\u001b[0m\u001b[0mnode_data\u001b[0m\u001b[0;34m[\u001b[0m\u001b[0;34m'elements'\u001b[0m\u001b[0;34m]\u001b[0m\u001b[0;34m)\u001b[0m \u001b[0;34m==\u001b[0m \u001b[0;36m0\u001b[0m\u001b[0;34m:\u001b[0m\u001b[0;34m\u001b[0m\u001b[0;34m\u001b[0m\u001b[0m\n\u001b[0;32m--> 186\u001b[0;31m         \u001b[0;32mraise\u001b[0m \u001b[0mRuntimeError\u001b[0m\u001b[0;34m(\u001b[0m\u001b[0;34m'OSM query results contain no data.'\u001b[0m\u001b[0;34m)\u001b[0m\u001b[0;34m\u001b[0m\u001b[0;34m\u001b[0m\u001b[0m\n\u001b[0m\u001b[1;32m    187\u001b[0m \u001b[0;34m\u001b[0m\u001b[0m\n\u001b[1;32m    188\u001b[0m     \u001b[0mnodes\u001b[0m \u001b[0;34m=\u001b[0m \u001b[0;34m[\u001b[0m\u001b[0mprocess_node\u001b[0m\u001b[0;34m(\u001b[0m\u001b[0mn\u001b[0m\u001b[0;34m)\u001b[0m \u001b[0;32mfor\u001b[0m \u001b[0mn\u001b[0m \u001b[0;32min\u001b[0m \u001b[0mnode_data\u001b[0m\u001b[0;34m[\u001b[0m\u001b[0;34m'elements'\u001b[0m\u001b[0;34m]\u001b[0m\u001b[0;34m]\u001b[0m\u001b[0;34m\u001b[0m\u001b[0;34m\u001b[0m\u001b[0m\n",
      "\u001b[0;31mRuntimeError\u001b[0m: OSM query results contain no data."
     ]
    },
    {
     "name": "stdout",
     "output_type": "stream",
     "text": [
      "Saving OSM data to shapefile at path data/Davao City\n"
     ]
    },
    {
     "name": "stderr",
     "output_type": "stream",
     "text": [
      "/nfshome/gb1877/.conda/envs/osm2/lib/python3.6/site-packages/geopandas/io/file.py:108: FionaDeprecationWarning: Use fiona.Env() instead.\n",
      "  with fiona.drivers():\n"
     ]
    },
    {
     "name": "stdout",
     "output_type": "stream",
     "text": [
      "Saving OSM data to shapefile at path data/Davao City\n",
      "0.12 minutes elapsed!\n",
      "Fetching graph data for Davao City\n"
     ]
    },
    {
     "name": "stderr",
     "output_type": "stream",
     "text": [
      "/nfshome/gb1877/.conda/envs/osm2/lib/python3.6/site-packages/geopandas/io/file.py:108: FionaDeprecationWarning: Use fiona.Env() instead.\n",
      "  with fiona.drivers():\n"
     ]
    },
    {
     "name": "stdout",
     "output_type": "stream",
     "text": [
      "peartree version: 0.6.1 \n",
      "networkx version: 2.2 \n",
      "matplotlib version: 3.0.2 \n",
      "osmnx version: 0.9 \n",
      "WARNING: \"factor behavior has changed! now divides rather than multiplies. This change brings gn.salt_long_lines into line with gn.convert_network_to_time\" \n",
      "Identified 8 unique edge(s) longer than 50. \n",
      "Beginning new node creation...\n",
      "5942 new edges added and 16 removed to bring total edges to 59055\n",
      "2963 new nodes added to bring total nodes to 22661\n",
      "1.04 minutes elapsed!\n",
      "Snapping OSM data to drive network\n",
      "1.17 minutes elapsed!\n",
      "peartree version: 0.6.1 \n",
      "networkx version: 2.2 \n",
      "matplotlib version: 3.0.2 \n",
      "osmnx version: 0.9 \n",
      "Calculating OD matrix for drive network\n",
      "print origins type\n",
      "<class 'list'>\n",
      "weighted_origins equals false\n",
      "print origins type\n",
      "<class 'list'>\n",
      "weighted_origins equals false\n",
      "2.02 minutes elapsed!\n",
      "Fetching graph data for Davao City\n",
      "peartree version: 0.6.1 \n",
      "networkx version: 2.2 \n",
      "matplotlib version: 3.0.2 \n",
      "osmnx version: 0.9 \n",
      "WARNING: \"factor behavior has changed! now divides rather than multiplies. This change brings gn.salt_long_lines into line with gn.convert_network_to_time\" \n",
      "Identified 81 unique edge(s) longer than 50. \n",
      "Beginning new node creation...\n",
      "23186 new edges added and 162 removed to bring total edges to 95284\n",
      "11512 new nodes added to bring total nodes to 37753\n",
      "Snapping OSM data to walk network\n",
      "3.55 minutes elapsed!\n",
      "Calculating OD matrix for walk network\n",
      "print origins type\n",
      "<class 'list'>\n",
      "weighted_origins equals false\n",
      "print origins type\n",
      "<class 'list'>\n",
      "weighted_origins equals false\n",
      "Creating fishnet\n",
      "6.07 minutes elapsed!\n",
      "Snapping grid to network\n",
      "12.33 minutes elapsed!\n",
      "Writing output file!!\n"
     ]
    },
    {
     "name": "stderr",
     "output_type": "stream",
     "text": [
      "/nfshome/gb1877/.conda/envs/osm2/lib/python3.6/site-packages/geopandas/io/file.py:108: FionaDeprecationWarning: Use fiona.Env() instead.\n",
      "  with fiona.drivers():\n"
     ]
    },
    {
     "name": "stdout",
     "output_type": "stream",
     "text": [
      "CPU times: user 16min 2s, sys: 1min 2s, total: 17min 4s\n",
      "Wall time: 27min 35s\n",
      "Saving OSM data to shapefile at path data/Tashkent\n"
     ]
    },
    {
     "name": "stderr",
     "output_type": "stream",
     "text": [
      "/nfshome/gb1877/.conda/envs/osm2/lib/python3.6/site-packages/geopandas/io/file.py:108: FionaDeprecationWarning: Use fiona.Env() instead.\n",
      "  with fiona.drivers():\n"
     ]
    },
    {
     "name": "stdout",
     "output_type": "stream",
     "text": [
      "Saving OSM data to shapefile at path data/Tashkent\n",
      "0.07 minutes elapsed!\n",
      "Fetching graph data for Tashkent\n"
     ]
    },
    {
     "name": "stderr",
     "output_type": "stream",
     "text": [
      "/nfshome/gb1877/.conda/envs/osm2/lib/python3.6/site-packages/geopandas/io/file.py:108: FionaDeprecationWarning: Use fiona.Env() instead.\n",
      "  with fiona.drivers():\n"
     ]
    },
    {
     "name": "stdout",
     "output_type": "stream",
     "text": [
      "peartree version: 0.6.1 \n",
      "networkx version: 2.2 \n",
      "matplotlib version: 3.0.2 \n",
      "osmnx version: 0.9 \n",
      "WARNING: \"factor behavior has changed! now divides rather than multiplies. This change brings gn.salt_long_lines into line with gn.convert_network_to_time\" \n",
      "Identified 17539 unique edge(s) longer than 50. \n",
      "Beginning new node creation...\n",
      "152200 new edges added and 30568 removed to bring total edges to 158832\n",
      "58561 new nodes added to bring total nodes to 73338\n",
      "1.41 minutes elapsed!\n",
      "Snapping OSM data to drive network\n",
      "1.79 minutes elapsed!\n",
      "peartree version: 0.6.1 \n",
      "networkx version: 2.2 \n",
      "matplotlib version: 3.0.2 \n",
      "osmnx version: 0.9 \n",
      "Calculating OD matrix for drive network\n",
      "print origins type\n",
      "<class 'list'>\n",
      "weighted_origins equals false\n",
      "print origins type\n",
      "<class 'list'>\n",
      "weighted_origins equals false\n",
      "3.6 minutes elapsed!\n",
      "Fetching graph data for Tashkent\n",
      "peartree version: 0.6.1 \n",
      "networkx version: 2.2 \n",
      "matplotlib version: 3.0.2 \n",
      "osmnx version: 0.9 \n",
      "WARNING: \"factor behavior has changed! now divides rather than multiplies. This change brings gn.salt_long_lines into line with gn.convert_network_to_time\" \n",
      "Identified 35618 unique edge(s) longer than 50. \n",
      "Beginning new node creation...\n",
      "250618 new edges added and 71388 removed to bring total edges to 304190\n",
      "89691 new nodes added to bring total nodes to 133356\n",
      "Snapping OSM data to walk network\n",
      "7.86 minutes elapsed!\n",
      "Calculating OD matrix for walk network\n",
      "print origins type\n",
      "<class 'list'>\n",
      "weighted_origins equals false\n",
      "print origins type\n",
      "<class 'list'>\n",
      "weighted_origins equals false\n",
      "Creating fishnet\n",
      "11.79 minutes elapsed!\n",
      "Snapping grid to network\n",
      "13.37 minutes elapsed!\n",
      "Writing output file!!\n"
     ]
    },
    {
     "name": "stderr",
     "output_type": "stream",
     "text": [
      "/nfshome/gb1877/.conda/envs/osm2/lib/python3.6/site-packages/geopandas/io/file.py:108: FionaDeprecationWarning: Use fiona.Env() instead.\n",
      "  with fiona.drivers():\n"
     ]
    },
    {
     "name": "stdout",
     "output_type": "stream",
     "text": [
      "CPU times: user 13min 53s, sys: 13.5 s, total: 14min 6s\n",
      "Wall time: 14min 49s\n",
      "Saving OSM data to shapefile at path data/Bethlehem\n"
     ]
    },
    {
     "name": "stderr",
     "output_type": "stream",
     "text": [
      "/nfshome/gb1877/.conda/envs/osm2/lib/python3.6/site-packages/geopandas/io/file.py:108: FionaDeprecationWarning: Use fiona.Env() instead.\n",
      "  with fiona.drivers():\n"
     ]
    },
    {
     "name": "stdout",
     "output_type": "stream",
     "text": [
      "Saving OSM data to shapefile at path data/Bethlehem\n",
      "0.08 minutes elapsed!\n",
      "Fetching graph data for Bethlehem\n"
     ]
    },
    {
     "name": "stderr",
     "output_type": "stream",
     "text": [
      "/nfshome/gb1877/.conda/envs/osm2/lib/python3.6/site-packages/geopandas/io/file.py:108: FionaDeprecationWarning: Use fiona.Env() instead.\n",
      "  with fiona.drivers():\n"
     ]
    },
    {
     "name": "stdout",
     "output_type": "stream",
     "text": [
      "peartree version: 0.6.1 \n",
      "networkx version: 2.2 \n",
      "matplotlib version: 3.0.2 \n",
      "osmnx version: 0.9 \n",
      "WARNING: \"factor behavior has changed! now divides rather than multiplies. This change brings gn.salt_long_lines into line with gn.convert_network_to_time\" \n",
      "Identified 3243 unique edge(s) longer than 50. \n",
      "Beginning new node creation...\n",
      "32486 new edges added and 6183 removed to bring total edges to 34617\n",
      "13000 new nodes added to bring total nodes to 16654\n",
      "0.58 minutes elapsed!\n",
      "Snapping OSM data to drive network\n",
      "0.66 minutes elapsed!\n",
      "peartree version: 0.6.1 \n",
      "networkx version: 2.2 \n",
      "matplotlib version: 3.0.2 \n",
      "osmnx version: 0.9 \n",
      "Calculating OD matrix for drive network\n",
      "print origins type\n",
      "<class 'list'>\n",
      "weighted_origins equals false\n",
      "print origins type\n",
      "<class 'list'>\n",
      "weighted_origins equals false\n",
      "1.15 minutes elapsed!\n",
      "Fetching graph data for Bethlehem\n",
      "peartree version: 0.6.1 \n",
      "networkx version: 2.2 \n",
      "matplotlib version: 3.0.2 \n",
      "osmnx version: 0.9 \n",
      "WARNING: \"factor behavior has changed! now divides rather than multiplies. This change brings gn.salt_long_lines into line with gn.convert_network_to_time\" \n",
      "Identified 6758 unique edge(s) longer than 50. \n",
      "Beginning new node creation...\n",
      "79842 new edges added and 13582 removed to bring total edges to 87380\n",
      "33163 new nodes added to bring total nodes to 41114\n",
      "Snapping OSM data to walk network\n",
      "2.62 minutes elapsed!\n",
      "Calculating OD matrix for walk network\n",
      "print origins type\n",
      "<class 'list'>\n",
      "weighted_origins equals false\n",
      "print origins type\n",
      "<class 'list'>\n",
      "weighted_origins equals false\n",
      "Creating fishnet\n",
      "5.37 minutes elapsed!\n",
      "Snapping grid to network\n",
      "6.51 minutes elapsed!\n",
      "Writing output file!!\n"
     ]
    },
    {
     "name": "stderr",
     "output_type": "stream",
     "text": [
      "/nfshome/gb1877/.conda/envs/osm2/lib/python3.6/site-packages/geopandas/io/file.py:108: FionaDeprecationWarning: Use fiona.Env() instead.\n",
      "  with fiona.drivers():\n"
     ]
    },
    {
     "name": "stdout",
     "output_type": "stream",
     "text": [
      "CPU times: user 3min 40s, sys: 2.04 s, total: 3min 42s\n",
      "Wall time: 6min 43s\n",
      "Saving OSM data to shapefile at path data/Lima\n"
     ]
    },
    {
     "name": "stderr",
     "output_type": "stream",
     "text": [
      "/nfshome/gb1877/.conda/envs/osm2/lib/python3.6/site-packages/geopandas/io/file.py:108: FionaDeprecationWarning: Use fiona.Env() instead.\n",
      "  with fiona.drivers():\n"
     ]
    },
    {
     "name": "stdout",
     "output_type": "stream",
     "text": [
      "Saving OSM data to shapefile at path data/Lima\n",
      "0.24 minutes elapsed!\n",
      "Fetching graph data for Lima\n"
     ]
    },
    {
     "name": "stderr",
     "output_type": "stream",
     "text": [
      "/nfshome/gb1877/.conda/envs/osm2/lib/python3.6/site-packages/geopandas/io/file.py:108: FionaDeprecationWarning: Use fiona.Env() instead.\n",
      "  with fiona.drivers():\n"
     ]
    },
    {
     "name": "stdout",
     "output_type": "stream",
     "text": [
      "peartree version: 0.6.1 \n",
      "networkx version: 2.2 \n",
      "matplotlib version: 3.0.2 \n",
      "osmnx version: 0.9 \n",
      "WARNING: \"factor behavior has changed! now divides rather than multiplies. This change brings gn.salt_long_lines into line with gn.convert_network_to_time\" \n",
      "Identified 177764 unique edge(s) longer than 50. \n",
      "Beginning new node creation...\n"
     ]
    }
   ],
   "source": [
    "for i in priority_list:\n",
    "    %time get_accessibility(i)"
   ]
  },
  {
   "cell_type": "code",
   "execution_count": null,
   "metadata": {},
   "outputs": [
    {
     "name": "stderr",
     "output_type": "stream",
     "text": [
      "/nfshome/gb1877/.conda/envs/osm2/lib/python3.6/site-packages/ipykernel_launcher.py:29: SettingWithCopyWarning: \n",
      "A value is trying to be set on a copy of a slice from a DataFrame.\n",
      "Try using .loc[row_indexer,col_indexer] = value instead\n",
      "\n",
      "See the caveats in the documentation: http://pandas.pydata.org/pandas-docs/stable/indexing.html#indexing-view-versus-copy\n",
      "/nfshome/gb1877/.conda/envs/osm2/lib/python3.6/site-packages/ipykernel_launcher.py:30: SettingWithCopyWarning: \n",
      "A value is trying to be set on a copy of a slice from a DataFrame.\n",
      "Try using .loc[row_indexer,col_indexer] = value instead\n",
      "\n",
      "See the caveats in the documentation: http://pandas.pydata.org/pandas-docs/stable/indexing.html#indexing-view-versus-copy\n"
     ]
    },
    {
     "name": "stdout",
     "output_type": "stream",
     "text": [
      "Saving OSM data to shapefile at path data/Lima\n",
      "Saving OSM data to shapefile at path data/Lima\n",
      "0.06 minutes elapsed!\n",
      "Fetching graph data for Lima\n",
      "peartree version: 0.6.1 \n",
      "networkx version: 2.2 \n",
      "matplotlib version: 3.0.2 \n",
      "osmnx version: 0.9 \n",
      "WARNING: \"factor behavior has changed! now divides rather than multiplies. This change brings gn.salt_long_lines into line with gn.convert_network_to_time\" \n"
     ]
    }
   ],
   "source": [
    "%time get_accessibility('Lima, Peru')"
   ]
  },
  {
   "cell_type": "markdown",
   "metadata": {},
   "source": [
    "## Testing"
   ]
  },
  {
   "cell_type": "code",
   "execution_count": null,
   "metadata": {},
   "outputs": [],
   "source": [
    "%time get_accessibility('Tashkent, Uzbekistan', 100)"
   ]
  },
  {
   "cell_type": "code",
   "execution_count": 9,
   "metadata": {},
   "outputs": [],
   "source": [
    "boundary_GDF = ox.gdf_from_place('{}'.format('Tashkent, Uzbekistan'),which_result=1)"
   ]
  },
  {
   "cell_type": "code",
   "execution_count": 14,
   "metadata": {},
   "outputs": [],
   "source": [
    "make_fishnet('data/{a}/{b}_{c}_grid.shp'.format(a='Tashkent',b='Tashkent', c='fishnet'),boundary_GDF.bbox_west[0],\\\n",
    "             boundary_GDF.bbox_east[0], boundary_GDF.bbox_south[0],  boundary_GDF.bbox_north[0],100,100) # takes xmin, xmax, ymin, ymax   "
   ]
  },
  {
   "cell_type": "code",
   "execution_count": 10,
   "metadata": {},
   "outputs": [],
   "source": [
    "grid=gpd.read_file('data/{a}/{b}_{c}_grid.shp'.format(a='Tashkent',b='Tashkent', c='fishnet'))\n",
    "    \n",
    "grid['centroid'] = grid.geometry.centroid\n",
    "grid_graph = grid[['FID', 'centroid']]\n",
    "grid_graph = gpd.GeoDataFrame(grid_graph, geometry = 'centroid')\n",
    "\n",
    "grid_graph['geometry'] = grid_graph.centroid"
   ]
  },
  {
   "cell_type": "code",
   "execution_count": 11,
   "metadata": {},
   "outputs": [
    {
     "name": "stdout",
     "output_type": "stream",
     "text": [
      "Fetching graph data for Tashkent\n",
      "peartree version: 0.6.1 \n",
      "networkx version: 2.2 \n",
      "matplotlib version: 3.0.2 \n",
      "osmnx version: 0.9 \n",
      "WARNING: \"factor behavior has changed! now divides rather than multiplies. This change brings gn.salt_long_lines into line with gn.convert_network_to_time\" \n",
      "Identified 17106 unique edge(s) longer than 50. \n",
      "Beginning new node creation...\n",
      "137908 new edges added and 29838 removed to bring total edges to 145270\n",
      "51848 new nodes added to bring total nodes to 66625\n"
     ]
    }
   ],
   "source": [
    " G_drive = get_graph('Tashkent',boundary_GDF, 'drive')"
   ]
  },
  {
   "cell_type": "code",
   "execution_count": 12,
   "metadata": {},
   "outputs": [
    {
     "name": "stderr",
     "output_type": "stream",
     "text": [
      "GOSTNets/GOSTnet.py:1622: FutureWarning: Method .as_matrix will be removed in a future version. Use .values instead.\n",
      "  G_tree = spatial.KDTree(node_gdf[['x','y']].as_matrix())\n",
      "GOSTNets/GOSTnet.py:1624: FutureWarning: Method .as_matrix will be removed in a future version. Use .values instead.\n",
      "  distances, indices = G_tree.query(in_df[['x','y']].as_matrix())\n"
     ]
    }
   ],
   "source": [
    "test = gn.pandana_snap(G_drive, grid_graph, add_dist_to_node_col=True)"
   ]
  },
  {
   "cell_type": "code",
   "execution_count": 14,
   "metadata": {},
   "outputs": [],
   "source": [
    "grid_graph = grid[['FID', 'centroid']]\n",
    "grid_graph = gpd.GeoDataFrame(grid_graph, geometry = 'centroid')\n",
    "grid_graph['geometry'] = grid_graph.centroid"
   ]
  },
  {
   "cell_type": "code",
   "execution_count": 13,
   "metadata": {},
   "outputs": [
    {
     "data": {
      "text/html": [
       "<div>\n",
       "<style scoped>\n",
       "    .dataframe tbody tr th:only-of-type {\n",
       "        vertical-align: middle;\n",
       "    }\n",
       "\n",
       "    .dataframe tbody tr th {\n",
       "        vertical-align: top;\n",
       "    }\n",
       "\n",
       "    .dataframe thead th {\n",
       "        text-align: right;\n",
       "    }\n",
       "</style>\n",
       "<table border=\"1\" class=\"dataframe\">\n",
       "  <thead>\n",
       "    <tr style=\"text-align: right;\">\n",
       "      <th></th>\n",
       "      <th>FID</th>\n",
       "      <th>centroid</th>\n",
       "      <th>geometry</th>\n",
       "      <th>NN</th>\n",
       "      <th>NN_dist</th>\n",
       "    </tr>\n",
       "  </thead>\n",
       "  <tbody>\n",
       "    <tr>\n",
       "      <th>0</th>\n",
       "      <td>0</td>\n",
       "      <td>POINT (69.12095368821032 41.46935369741606)</td>\n",
       "      <td>POINT (69.12095368821032 41.46935369741606)</td>\n",
       "      <td>4310279974_6663_26290</td>\n",
       "      <td>0.120073</td>\n",
       "    </tr>\n",
       "    <tr>\n",
       "      <th>1</th>\n",
       "      <td>1</td>\n",
       "      <td>POINT (69.12095368821032 41.46338849224817)</td>\n",
       "      <td>POINT (69.12095368821032 41.46338849224817)</td>\n",
       "      <td>4310279974_6670_26297</td>\n",
       "      <td>0.115031</td>\n",
       "    </tr>\n",
       "    <tr>\n",
       "      <th>2</th>\n",
       "      <td>2</td>\n",
       "      <td>POINT (69.12095368821032 41.45742328708027)</td>\n",
       "      <td>POINT (69.12095368821032 41.45742328708027)</td>\n",
       "      <td>1626607129</td>\n",
       "      <td>0.109989</td>\n",
       "    </tr>\n",
       "    <tr>\n",
       "      <th>3</th>\n",
       "      <td>3</td>\n",
       "      <td>POINT (69.12095368821032 41.45145808191239)</td>\n",
       "      <td>POINT (69.12095368821032 41.45145808191239)</td>\n",
       "      <td>1186871492_9098_36064</td>\n",
       "      <td>0.104960</td>\n",
       "    </tr>\n",
       "    <tr>\n",
       "      <th>4</th>\n",
       "      <td>4</td>\n",
       "      <td>POINT (69.12095368821032 41.4454928767445)</td>\n",
       "      <td>POINT (69.12095368821032 41.4454928767445)</td>\n",
       "      <td>1186871492_9102_36068</td>\n",
       "      <td>0.099937</td>\n",
       "    </tr>\n",
       "  </tbody>\n",
       "</table>\n",
       "</div>"
      ],
      "text/plain": [
       "   FID                                     centroid  \\\n",
       "0    0  POINT (69.12095368821032 41.46935369741606)   \n",
       "1    1  POINT (69.12095368821032 41.46338849224817)   \n",
       "2    2  POINT (69.12095368821032 41.45742328708027)   \n",
       "3    3  POINT (69.12095368821032 41.45145808191239)   \n",
       "4    4   POINT (69.12095368821032 41.4454928767445)   \n",
       "\n",
       "                                      geometry                     NN  \\\n",
       "0  POINT (69.12095368821032 41.46935369741606)  4310279974_6663_26290   \n",
       "1  POINT (69.12095368821032 41.46338849224817)  4310279974_6670_26297   \n",
       "2  POINT (69.12095368821032 41.45742328708027)             1626607129   \n",
       "3  POINT (69.12095368821032 41.45145808191239)  1186871492_9098_36064   \n",
       "4   POINT (69.12095368821032 41.4454928767445)  1186871492_9102_36068   \n",
       "\n",
       "    NN_dist  \n",
       "0  0.120073  \n",
       "1  0.115031  \n",
       "2  0.109989  \n",
       "3  0.104960  \n",
       "4  0.099937  "
      ]
     },
     "execution_count": 13,
     "metadata": {},
     "output_type": "execute_result"
    }
   ],
   "source": [
    "test.head()"
   ]
  },
  {
   "cell_type": "code",
   "execution_count": 23,
   "metadata": {},
   "outputs": [
    {
     "data": {
      "text/plain": [
       "((96033, 6), (96033, 3), (96033, 3))"
      ]
     },
     "execution_count": 23,
     "metadata": {},
     "output_type": "execute_result"
    }
   ],
   "source": [
    "test.shape, grid_graph.shape, grid.shape"
   ]
  },
  {
   "cell_type": "code",
   "execution_count": 15,
   "metadata": {},
   "outputs": [
    {
     "name": "stderr",
     "output_type": "stream",
     "text": [
      "/nfshome/gb1877/.conda/envs/osm2/lib/python3.6/site-packages/ipykernel_launcher.py:29: SettingWithCopyWarning: \n",
      "A value is trying to be set on a copy of a slice from a DataFrame.\n",
      "Try using .loc[row_indexer,col_indexer] = value instead\n",
      "\n",
      "See the caveats in the documentation: http://pandas.pydata.org/pandas-docs/stable/indexing.html#indexing-view-versus-copy\n"
     ]
    },
    {
     "name": "stdout",
     "output_type": "stream",
     "text": [
      "Saving OSM data to shapefile at path data/Tashkent\n"
     ]
    },
    {
     "name": "stderr",
     "output_type": "stream",
     "text": [
      "/nfshome/gb1877/.conda/envs/osm2/lib/python3.6/site-packages/ipykernel_launcher.py:30: SettingWithCopyWarning: \n",
      "A value is trying to be set on a copy of a slice from a DataFrame.\n",
      "Try using .loc[row_indexer,col_indexer] = value instead\n",
      "\n",
      "See the caveats in the documentation: http://pandas.pydata.org/pandas-docs/stable/indexing.html#indexing-view-versus-copy\n"
     ]
    }
   ],
   "source": [
    "osm_schools = get_amenities('Tashkent', 'schools')"
   ]
  },
  {
   "cell_type": "code",
   "execution_count": 16,
   "metadata": {},
   "outputs": [],
   "source": [
    "schools = gn.pandana_snap(G_drive, osm_schools, add_dist_to_node_col=True)"
   ]
  },
  {
   "cell_type": "code",
   "execution_count": 17,
   "metadata": {},
   "outputs": [
    {
     "data": {
      "text/html": [
       "<div>\n",
       "<style scoped>\n",
       "    .dataframe tbody tr th:only-of-type {\n",
       "        vertical-align: middle;\n",
       "    }\n",
       "\n",
       "    .dataframe tbody tr th {\n",
       "        vertical-align: top;\n",
       "    }\n",
       "\n",
       "    .dataframe thead th {\n",
       "        text-align: right;\n",
       "    }\n",
       "</style>\n",
       "<table border=\"1\" class=\"dataframe\">\n",
       "  <thead>\n",
       "    <tr style=\"text-align: right;\">\n",
       "      <th></th>\n",
       "      <th>amenity</th>\n",
       "      <th>lat</th>\n",
       "      <th>lon</th>\n",
       "      <th>name</th>\n",
       "      <th>name:en</th>\n",
       "      <th>geometry</th>\n",
       "      <th>NN</th>\n",
       "      <th>NN_dist</th>\n",
       "    </tr>\n",
       "    <tr>\n",
       "      <th>id</th>\n",
       "      <th></th>\n",
       "      <th></th>\n",
       "      <th></th>\n",
       "      <th></th>\n",
       "      <th></th>\n",
       "      <th></th>\n",
       "      <th></th>\n",
       "      <th></th>\n",
       "    </tr>\n",
       "  </thead>\n",
       "  <tbody>\n",
       "    <tr>\n",
       "      <th>1180419912</th>\n",
       "      <td>school</td>\n",
       "      <td>41.307575</td>\n",
       "      <td>69.307707</td>\n",
       "      <td>Музыкальная школа</td>\n",
       "      <td>NaN</td>\n",
       "      <td>POINT (69.3077066 41.3075749)</td>\n",
       "      <td>3840338995_15029_60484</td>\n",
       "      <td>0.000712</td>\n",
       "    </tr>\n",
       "    <tr>\n",
       "      <th>1773030883</th>\n",
       "      <td>college</td>\n",
       "      <td>41.278832</td>\n",
       "      <td>69.245548</td>\n",
       "      <td>Эстрадно-цирковой колледж</td>\n",
       "      <td>NaN</td>\n",
       "      <td>POINT (69.24554759999999 41.2788318)</td>\n",
       "      <td>5204569916_15421_62154</td>\n",
       "      <td>0.000401</td>\n",
       "    </tr>\n",
       "    <tr>\n",
       "      <th>1882843937</th>\n",
       "      <td>school</td>\n",
       "      <td>41.268809</td>\n",
       "      <td>69.301075</td>\n",
       "      <td>Школа №154</td>\n",
       "      <td>NaN</td>\n",
       "      <td>POINT (69.30107510000001 41.2688093)</td>\n",
       "      <td>1938195543_688_2724</td>\n",
       "      <td>0.001010</td>\n",
       "    </tr>\n",
       "    <tr>\n",
       "      <th>1925761630</th>\n",
       "      <td>school</td>\n",
       "      <td>41.291849</td>\n",
       "      <td>69.262423</td>\n",
       "      <td>Школа №160</td>\n",
       "      <td>NaN</td>\n",
       "      <td>POINT (69.26242329999999 41.2918495)</td>\n",
       "      <td>2130411433</td>\n",
       "      <td>0.000399</td>\n",
       "    </tr>\n",
       "    <tr>\n",
       "      <th>1925791814</th>\n",
       "      <td>college</td>\n",
       "      <td>41.273725</td>\n",
       "      <td>69.243741</td>\n",
       "      <td>Колледж сферы услуг</td>\n",
       "      <td>NaN</td>\n",
       "      <td>POINT (69.243741 41.2737253)</td>\n",
       "      <td>4965474330_5230_20753</td>\n",
       "      <td>0.001356</td>\n",
       "    </tr>\n",
       "  </tbody>\n",
       "</table>\n",
       "</div>"
      ],
      "text/plain": [
       "            amenity        lat        lon                       name name:en  \\\n",
       "id                                                                             \n",
       "1180419912   school  41.307575  69.307707          Музыкальная школа     NaN   \n",
       "1773030883  college  41.278832  69.245548  Эстрадно-цирковой колледж     NaN   \n",
       "1882843937   school  41.268809  69.301075                 Школа №154     NaN   \n",
       "1925761630   school  41.291849  69.262423                 Школа №160     NaN   \n",
       "1925791814  college  41.273725  69.243741        Колледж сферы услуг     NaN   \n",
       "\n",
       "                                        geometry                      NN  \\\n",
       "id                                                                         \n",
       "1180419912         POINT (69.3077066 41.3075749)  3840338995_15029_60484   \n",
       "1773030883  POINT (69.24554759999999 41.2788318)  5204569916_15421_62154   \n",
       "1882843937  POINT (69.30107510000001 41.2688093)     1938195543_688_2724   \n",
       "1925761630  POINT (69.26242329999999 41.2918495)              2130411433   \n",
       "1925791814          POINT (69.243741 41.2737253)   4965474330_5230_20753   \n",
       "\n",
       "             NN_dist  \n",
       "id                    \n",
       "1180419912  0.000712  \n",
       "1773030883  0.000401  \n",
       "1882843937  0.001010  \n",
       "1925761630  0.000399  \n",
       "1925791814  0.001356  "
      ]
     },
     "execution_count": 17,
     "metadata": {},
     "output_type": "execute_result"
    }
   ],
   "source": [
    "schools.head()"
   ]
  },
  {
   "cell_type": "code",
   "execution_count": 22,
   "metadata": {},
   "outputs": [
    {
     "name": "stdout",
     "output_type": "stream",
     "text": [
      "print origins type\n",
      "<class 'list'>\n",
      "weighted_origins equals false\n"
     ]
    }
   ],
   "source": [
    "schools_OD_drive = gn.calculate_OD(G=G_drive, origins=list(test.NN), destinations = list(schools.NN), \n",
    "                                 fail_value = 99999, weight='NN_dist')"
   ]
  },
  {
   "cell_type": "code",
   "execution_count": 23,
   "metadata": {},
   "outputs": [
    {
     "data": {
      "text/plain": [
       "((3888, 5), (119, 8), (3888, 119))"
      ]
     },
     "execution_count": 23,
     "metadata": {},
     "output_type": "execute_result"
    }
   ],
   "source": [
    "test.shape, schools.shape, schools_OD_drive.shape"
   ]
  },
  {
   "cell_type": "code",
   "execution_count": 24,
   "metadata": {},
   "outputs": [],
   "source": [
    "test['school_drive'] = [schools_OD_drive[i].min() for i in range(schools_OD_drive.shape[0])]"
   ]
  },
  {
   "cell_type": "code",
   "execution_count": 25,
   "metadata": {},
   "outputs": [
    {
     "data": {
      "text/html": [
       "<div>\n",
       "<style scoped>\n",
       "    .dataframe tbody tr th:only-of-type {\n",
       "        vertical-align: middle;\n",
       "    }\n",
       "\n",
       "    .dataframe tbody tr th {\n",
       "        vertical-align: top;\n",
       "    }\n",
       "\n",
       "    .dataframe thead th {\n",
       "        text-align: right;\n",
       "    }\n",
       "</style>\n",
       "<table border=\"1\" class=\"dataframe\">\n",
       "  <thead>\n",
       "    <tr style=\"text-align: right;\">\n",
       "      <th></th>\n",
       "      <th>FID</th>\n",
       "      <th>centroid</th>\n",
       "      <th>geometry</th>\n",
       "      <th>NN</th>\n",
       "      <th>NN_dist</th>\n",
       "      <th>school_drive</th>\n",
       "    </tr>\n",
       "  </thead>\n",
       "  <tbody>\n",
       "    <tr>\n",
       "      <th>0</th>\n",
       "      <td>0</td>\n",
       "      <td>POINT (69.12095368821032 41.46935369741606)</td>\n",
       "      <td>POINT (69.12095368821032 41.46935369741606)</td>\n",
       "      <td>4310279974_6663_26290</td>\n",
       "      <td>0.120073</td>\n",
       "      <td>4.0</td>\n",
       "    </tr>\n",
       "    <tr>\n",
       "      <th>1</th>\n",
       "      <td>1</td>\n",
       "      <td>POINT (69.12095368821032 41.46338849224817)</td>\n",
       "      <td>POINT (69.12095368821032 41.46338849224817)</td>\n",
       "      <td>4310279974_6670_26297</td>\n",
       "      <td>0.115031</td>\n",
       "      <td>3.0</td>\n",
       "    </tr>\n",
       "    <tr>\n",
       "      <th>2</th>\n",
       "      <td>2</td>\n",
       "      <td>POINT (69.12095368821032 41.45742328708027)</td>\n",
       "      <td>POINT (69.12095368821032 41.45742328708027)</td>\n",
       "      <td>1626607129</td>\n",
       "      <td>0.109989</td>\n",
       "      <td>10.0</td>\n",
       "    </tr>\n",
       "    <tr>\n",
       "      <th>3</th>\n",
       "      <td>3</td>\n",
       "      <td>POINT (69.12095368821032 41.45145808191239)</td>\n",
       "      <td>POINT (69.12095368821032 41.45145808191239)</td>\n",
       "      <td>1186871492_9098_36064</td>\n",
       "      <td>0.104960</td>\n",
       "      <td>2.0</td>\n",
       "    </tr>\n",
       "    <tr>\n",
       "      <th>4</th>\n",
       "      <td>4</td>\n",
       "      <td>POINT (69.12095368821032 41.4454928767445)</td>\n",
       "      <td>POINT (69.12095368821032 41.4454928767445)</td>\n",
       "      <td>1186871492_9102_36068</td>\n",
       "      <td>0.099937</td>\n",
       "      <td>2.0</td>\n",
       "    </tr>\n",
       "  </tbody>\n",
       "</table>\n",
       "</div>"
      ],
      "text/plain": [
       "   FID                                     centroid  \\\n",
       "0    0  POINT (69.12095368821032 41.46935369741606)   \n",
       "1    1  POINT (69.12095368821032 41.46338849224817)   \n",
       "2    2  POINT (69.12095368821032 41.45742328708027)   \n",
       "3    3  POINT (69.12095368821032 41.45145808191239)   \n",
       "4    4   POINT (69.12095368821032 41.4454928767445)   \n",
       "\n",
       "                                      geometry                     NN  \\\n",
       "0  POINT (69.12095368821032 41.46935369741606)  4310279974_6663_26290   \n",
       "1  POINT (69.12095368821032 41.46338849224817)  4310279974_6670_26297   \n",
       "2  POINT (69.12095368821032 41.45742328708027)             1626607129   \n",
       "3  POINT (69.12095368821032 41.45145808191239)  1186871492_9098_36064   \n",
       "4   POINT (69.12095368821032 41.4454928767445)  1186871492_9102_36068   \n",
       "\n",
       "    NN_dist  school_drive  \n",
       "0  0.120073           4.0  \n",
       "1  0.115031           3.0  \n",
       "2  0.109989          10.0  \n",
       "3  0.104960           2.0  \n",
       "4  0.099937           2.0  "
      ]
     },
     "execution_count": 25,
     "metadata": {},
     "output_type": "execute_result"
    }
   ],
   "source": [
    "test.head()"
   ]
  },
  {
   "cell_type": "code",
   "execution_count": 26,
   "metadata": {},
   "outputs": [],
   "source": [
    "grid['total_school'] = test.school_drive + test.NN_dist"
   ]
  },
  {
   "cell_type": "code",
   "execution_count": 27,
   "metadata": {},
   "outputs": [
    {
     "data": {
      "text/html": [
       "<div>\n",
       "<style scoped>\n",
       "    .dataframe tbody tr th:only-of-type {\n",
       "        vertical-align: middle;\n",
       "    }\n",
       "\n",
       "    .dataframe tbody tr th {\n",
       "        vertical-align: top;\n",
       "    }\n",
       "\n",
       "    .dataframe thead th {\n",
       "        text-align: right;\n",
       "    }\n",
       "</style>\n",
       "<table border=\"1\" class=\"dataframe\">\n",
       "  <thead>\n",
       "    <tr style=\"text-align: right;\">\n",
       "      <th></th>\n",
       "      <th>FID</th>\n",
       "      <th>geometry</th>\n",
       "      <th>centroid</th>\n",
       "      <th>total_school</th>\n",
       "    </tr>\n",
       "  </thead>\n",
       "  <tbody>\n",
       "    <tr>\n",
       "      <th>0</th>\n",
       "      <td>0</td>\n",
       "      <td>POLYGON ((69.1187079 41.4723363, 69.1231994764...</td>\n",
       "      <td>POINT (69.12095368821032 41.46935369741606)</td>\n",
       "      <td>4.120073</td>\n",
       "    </tr>\n",
       "    <tr>\n",
       "      <th>1</th>\n",
       "      <td>1</td>\n",
       "      <td>POLYGON ((69.1187079 41.46637109483211, 69.123...</td>\n",
       "      <td>POINT (69.12095368821032 41.46338849224817)</td>\n",
       "      <td>3.115031</td>\n",
       "    </tr>\n",
       "    <tr>\n",
       "      <th>2</th>\n",
       "      <td>2</td>\n",
       "      <td>POLYGON ((69.1187079 41.46040588966422, 69.123...</td>\n",
       "      <td>POINT (69.12095368821032 41.45742328708027)</td>\n",
       "      <td>10.109989</td>\n",
       "    </tr>\n",
       "    <tr>\n",
       "      <th>3</th>\n",
       "      <td>3</td>\n",
       "      <td>POLYGON ((69.1187079 41.45444068449633, 69.123...</td>\n",
       "      <td>POINT (69.12095368821032 41.45145808191239)</td>\n",
       "      <td>2.104960</td>\n",
       "    </tr>\n",
       "    <tr>\n",
       "      <th>4</th>\n",
       "      <td>4</td>\n",
       "      <td>POLYGON ((69.1187079 41.44847547932844, 69.123...</td>\n",
       "      <td>POINT (69.12095368821032 41.4454928767445)</td>\n",
       "      <td>2.099937</td>\n",
       "    </tr>\n",
       "  </tbody>\n",
       "</table>\n",
       "</div>"
      ],
      "text/plain": [
       "   FID                                           geometry  \\\n",
       "0    0  POLYGON ((69.1187079 41.4723363, 69.1231994764...   \n",
       "1    1  POLYGON ((69.1187079 41.46637109483211, 69.123...   \n",
       "2    2  POLYGON ((69.1187079 41.46040588966422, 69.123...   \n",
       "3    3  POLYGON ((69.1187079 41.45444068449633, 69.123...   \n",
       "4    4  POLYGON ((69.1187079 41.44847547932844, 69.123...   \n",
       "\n",
       "                                      centroid  total_school  \n",
       "0  POINT (69.12095368821032 41.46935369741606)      4.120073  \n",
       "1  POINT (69.12095368821032 41.46338849224817)      3.115031  \n",
       "2  POINT (69.12095368821032 41.45742328708027)     10.109989  \n",
       "3  POINT (69.12095368821032 41.45145808191239)      2.104960  \n",
       "4   POINT (69.12095368821032 41.4454928767445)      2.099937  "
      ]
     },
     "execution_count": 27,
     "metadata": {},
     "output_type": "execute_result"
    }
   ],
   "source": [
    "grid.head()"
   ]
  },
  {
   "cell_type": "code",
   "execution_count": 29,
   "metadata": {},
   "outputs": [],
   "source": [
    "grid.drop(columns=['centroid'], inplace=True)"
   ]
  },
  {
   "cell_type": "code",
   "execution_count": 30,
   "metadata": {},
   "outputs": [
    {
     "name": "stderr",
     "output_type": "stream",
     "text": [
      "/nfshome/gb1877/.conda/envs/osm2/lib/python3.6/site-packages/geopandas/io/file.py:108: FionaDeprecationWarning: Use fiona.Env() instead.\n",
      "  with fiona.drivers():\n"
     ]
    }
   ],
   "source": [
    "grid.to_file('data/Tashkent/Test_schools.shp')"
   ]
  },
  {
   "cell_type": "code",
   "execution_count": 33,
   "metadata": {},
   "outputs": [
    {
     "data": {
      "text/plain": [
       "229.02841957364421"
      ]
     },
     "execution_count": 33,
     "metadata": {},
     "output_type": "execute_result"
    }
   ],
   "source": [
    "grid[grid.total_school < 90000].total_school.max()"
   ]
  },
  {
   "cell_type": "code",
   "execution_count": null,
   "metadata": {},
   "outputs": [],
   "source": [
    "t6 = datetime.datetime.now()\n",
    "    \n",
    "    print('{} minutes elapsed!'.format(get_time(t1, t6)))\n",
    "    ##### For walk network\n",
    "    \n",
    "    G_walk = get_graph(string,boundary_GDF, 'walk')\n",
    "    \n",
    "    #print('Snapping OSM data to walk network')\n",
    "    #schools_walk = gn.pandana_snap(G_walk, osm_schools)\n",
    "    \n",
    "    #health_walk = gn.pandana_snap(G_walk, osm_hosp)\n",
    "    \n",
    "    #grid_graph_walk = gn.pandana_snap(G_walk, grid_graph)\n",
    "    #node_gdf_walk = ox.graph_to_gdfs(G_walk, nodes=True, edges=False)\n",
    "    #node_gdf_walk = gn.pandana_snap(G_walk, node_gdf_walk)\n",
    "    \n",
    "    #t7 = datetime.datetime.now()\n",
    "    \n",
    "    #print('{} minutes elapsed!'.format(get_time(t1, t7)))\n",
    "    #print('Calculating OD matrix for walk network')\n",
    "    \n",
    "    #schools_OD_walk = gn.calculate_OD(G=G_walk, origins=list(node_gdf_walk.NN), destinations = list(schools_walk.NN), \n",
    "    #                             fail_value = fail_value, weight='time')\n",
    "    \n",
    "    #health_OD_walk = gn.calculate_OD(G=G_walk, origins=list(node_gdf_walk.NN), destinations = list(health_walk.NN), \n",
    "    #                         fail_value = fail_value, weight='time')\n",
    "    \n",
    "    #schools_OD_walk = gn.calculate_OD(G=G_walk, origins=list(grid_graph_walk.NN), destinations = list(schools_walk.NN), \n",
    "    #                             fail_value = fail_value, weight='distance')\n",
    "    \n",
    "    #health_OD_walk = gn.calculate_OD(G=G_walk, origins=list(grid_graph_walk.NN), destinations = list(health_walk.NN), \n",
    "   #                          fail_value = fail_value, weight='distance')\n",
    "    \n",
    "    #node_gdf_walk['distance_school'] = [schools_OD_walk[i].min() for i in range(schools_OD_walk.shape[0])]\n",
    "    #node_gdf_walk['distance_hospital'] = [health_OD_walk[i].min() for i in range(health_OD_walk.shape[0])]\n",
    "    \n",
    "    #grid['dis_wa_schl'] = [schools_OD_walk[i].min() for i in range(schools_OD_walk.shape[0])]\n",
    "   # grid['dis_wa_hosp'] = [health_OD_walk[i].min() for i in range(health_OD_walk.shape[0])]\n",
    "    \n",
    "    #t8 = datetime.datetime.now()\n",
    "    \n",
    "    #print('{} minutes elapsed!'.format(get_time(t1, t8)))\n",
    "    \n",
    "    #print('Snapping grid to network')\n",
    "    #grid_graph_drive =  gn.pandana_snap(G_drive, grid_graph)\n",
    "    #grid_graph_walk =  gn.pandana_snap(G_walk, grid_graph)\n",
    "    \n",
    "    #dis_school_drive = []\n",
    "    #for i in range(grid_graph_drive.shape[0]):\n",
    "    #    node = grid_graph_drive.NN[i]\n",
    "    #    try:\n",
    "    #        distance = node_gdf_drive.loc[node,'distance_school']\n",
    "    #    except:\n",
    "    #        pass\n",
    "    #   dis_school_drive.append(distance)\n",
    "        \n",
    "    #dis_hosp_drive = []\n",
    "    #for i in range(grid_graph_drive.shape[0]):\n",
    "    #    node = grid_graph_drive.NN[i]\n",
    "    #    try:\n",
    "    #        distance = node_gdf_drive.loc[node,'distance_hospital']\n",
    "    #    except:\n",
    "    #        pass\n",
    "    #    dis_hosp_drive.append(distance)\n",
    "    \n",
    "    #dis_school_walk = []\n",
    "    #for i in range(grid_graph_walk.shape[0]):\n",
    "    #    node = grid_graph_walk.NN[i]\n",
    "    #    try:\n",
    "    #        distance = node_gdf_walk.loc[node,'distance_school']\n",
    "    #    except:\n",
    "    #        pass\n",
    "    #    dis_school_walk.append(distance)\n",
    "        \n",
    "    #dis_hosp_walk = []\n",
    "    #for i in range(grid_graph_walk.shape[0]):\n",
    "    #    node = grid_graph_walk.NN[i]\n",
    "    #    try:\n",
    "    #        distance = node_gdf_walk.loc[node,'distance_hospital']\n",
    "    #    except:\n",
    "    #        pass\n",
    "    #    dis_hosp_walk.append(distance)\n",
    "    \n",
    "    #t9 = datetime.datetime.now()\n",
    "    \n",
    "    #print('{} minutes elapsed!'.format(get_time(t1, t9)))\n",
    "    \n",
    "    #grid['drive_school'] =  dis_school_drive\n",
    "    #grid['drive_hosp'] = dis_hosp_drive\n",
    "    #grid['walk_school'] = dis_school_walk\n",
    "    #grid['walk_hosp'] = dis_hosp_walk\n",
    "    \n",
    "    grid['total_school'] = grid.dis_dr_schl + grid.dis_wa_schl\n",
    "    grid['total_hosp'] = grid.dis_dr_hosp + grid.dis_wa_hosp"
   ]
  }
 ],
 "metadata": {
  "kernelspec": {
   "display_name": "OSM2",
   "language": "python",
   "name": "osm2"
  },
  "language_info": {
   "codemirror_mode": {
    "name": "ipython",
    "version": 3
   },
   "file_extension": ".py",
   "mimetype": "text/x-python",
   "name": "python",
   "nbconvert_exporter": "python",
   "pygments_lexer": "ipython3",
   "version": "3.6.7"
  }
 },
 "nbformat": 4,
 "nbformat_minor": 2
}
