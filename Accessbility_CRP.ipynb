{
 "cells": [
  {
   "cell_type": "code",
   "execution_count": 1,
   "metadata": {},
   "outputs": [
    {
     "name": "stdout",
     "output_type": "stream",
     "text": [
      "peartree version: 0.6.1 \n",
      "networkx version: 2.2 \n",
      "matplotlib version: 3.0.2 \n",
      "osmnx version: 0.9 \n"
     ]
    }
   ],
   "source": [
    "import importlib\n",
    "import sys,os,math,time\n",
    "\n",
    "import networkx as nx\n",
    "import geopandas as gpd\n",
    "import numpy as np\n",
    "import osmnx as ox\n",
    "import pandas as pd\n",
    "import rasterio\n",
    "import pylab as plt\n",
    "import json\n",
    "import datetime\n",
    "import pycrs\n",
    "import seaborn as sns\n",
    "from glob import glob\n",
    "from rasterio.plot import show, show_hist\n",
    "from rasterio.mask import mask\n",
    "from shapely.geometry import Point\n",
    "from shapely.geometry import LineString\n",
    "sys.path.append('GOSTNets')\n",
    "\n",
    "import GOSTnet as gn\n",
    "from pandana.loaders import osm;\n",
    "\n",
    "from osgeo import gdal, gdalconst, gdal_array\n",
    "from rasterstats import point_query, zonal_stats\n",
    "from make_fishnet import make_fishnet"
   ]
  },
  {
   "cell_type": "markdown",
   "metadata": {},
   "source": [
    "## Functions"
   ]
  },
  {
   "cell_type": "code",
   "execution_count": 2,
   "metadata": {},
   "outputs": [],
   "source": [
    "def get_amenities(string, tag):\n",
    "    \n",
    "    if tag == 'healthcare':\n",
    "        amenities = ['hospital', 'doctor', 'healthcare', 'clinic']\n",
    "    elif tag=='schools':\n",
    "        amenities = ['school', 'university', 'college']\n",
    "    else:\n",
    "        print('Invalid tag. Enter either healthcare or schools.')\n",
    "\n",
    "\n",
    "    osm_tags = '\"amenity\"~\"{}\"'.format('|'.join(amenities))\n",
    "\n",
    "    #pois = osm.node_query(coords[0],coords[1],coords[2],coords[3],tags=osm_tags) # required: lat_min, lng_min, lat_max, lng_max\n",
    "    \n",
    "    poly = get_polygon(string) ### minx\tminy\tmaxx\tmaxy\n",
    "    \n",
    "    extent = poly.bounds\n",
    "    try:\n",
    "        pois = osm.node_query(extent[1], extent[0], extent[3], extent[2], tags=osm_tags)\n",
    "\n",
    "        pois = pois[pois['amenity'].isin(amenities)]\n",
    "\n",
    "        try:\n",
    "            osm_data = pois[['amenity', 'lat', 'lon', 'name', 'name:en']]\n",
    "        except:\n",
    "            osm_data = pois[['amenity', 'lat', 'lon', 'name']]\n",
    "\n",
    "\n",
    "        osm_data['geometry'] = (list(zip(osm_data.lon,osm_data.lat)))\n",
    "        osm_data['geometry'] = osm_data.geometry.apply(lambda x: Point(x))\n",
    "        osm_data = gpd.GeoDataFrame(osm_data, geometry='geometry')\n",
    "\n",
    "        osm_data.crs = {'init':'epsg:4326'}\n",
    "        string = str(string)\n",
    "        print('Saving OSM data to shapefile at path data/{}'.format(string))\n",
    "    #osm_data.to_file('data/{}/{}_{}.shp'.format(string, string, tag))\n",
    "    #except HTTPError:\n",
    "    #    osm_data = gpd.read_file('data/{}/{}_{}.shp'.format(string, string, tag))\n",
    "    except:\n",
    "        print('Error occured while fetching OSM data')\n",
    "        osm_data = None\n",
    "        pass\n",
    "    \n",
    "    return osm_data"
   ]
  },
  {
   "cell_type": "code",
   "execution_count": 3,
   "metadata": {},
   "outputs": [],
   "source": [
    "def get_polygon(string):\n",
    "    \n",
    "    lis = glob('/nfshome/gb1877/gb1877/WorldBank/CRP/Betweenness_Centrality/data/AOI/*/*.shp')\n",
    "    \n",
    "    city = []\n",
    "    for i in lis:\n",
    "        x = i.split('/')[-2]\n",
    "        city.append(x.split('_')[0])\n",
    "        \n",
    "    if string in city:\n",
    "        l = glob('/nfshome/gb1877/gb1877/WorldBank/CRP/Betweenness_Centrality/data/AOI/{}_AOI/*.shp'.format(string))\n",
    "        adm = gpd.GeoDataFrame.from_file(l[0])\n",
    "        boundary_poly = adm.geometry.values[0]\n",
    "    else:\n",
    "        boundary_GDF = ox.gdf_from_place('{}'.format(string),which_result=1)\n",
    "        boundary_poly = boundary_GDF.loc[0,'geometry']\n",
    "        if boundary_poly.geom_type == 'Polygon':\n",
    "            boundary_poly = boundary_poly\n",
    "        else:\n",
    "            try:\n",
    "                boundary_GDF = ox.gdf_from_place('{}'.format(string),which_result=2)\n",
    "                boundary_poly = boundary_GDF.loc[0,'geometry']\n",
    "            except:\n",
    "                print('Polygon not available')\n",
    "                boundary_poly =  -1\n",
    "    \n",
    "    return boundary_poly"
   ]
  },
  {
   "cell_type": "code",
   "execution_count": 10,
   "metadata": {},
   "outputs": [],
   "source": [
    "def get_graph(string, boundary_GDF, network_type, target_crs='epsg:3395'):\n",
    "    \n",
    "    print('Fetching graph data for {}'.format(string))\n",
    "\n",
    "    G = ox.graph_from_polygon(get_polygon(string), network_type = network_type)\n",
    "    #G = ox.project_graph(G, to_crs = {'init': '{}'.format(target_crs)})\n",
    "    #G_project = ox.project_graph(G_drive, to_crs = {'init':'epsg:28411'} )\n",
    "    node_dict = {}\n",
    "\n",
    "    G2 = G.copy()\n",
    "\n",
    "    for u, data in G2.nodes(data = True):\n",
    "        node_dict[u] = Point(data['x'],data['y'])\n",
    "\n",
    "    for u, v, data in G2.edges(data = True):\n",
    "\n",
    "        if 'Wkt' not in data.keys():\n",
    "            strt = node_dict[u]\n",
    "            fini = node_dict[v]\n",
    "            data['Wkt'] = LineString([strt, fini])\n",
    "\n",
    "        if 'geometry' in data.keys():\n",
    "            data['Wkt'] = data['geometry']\n",
    "            data.pop('geometry')\n",
    "            \n",
    "    importlib.reload(gn)\n",
    "    G3 = gn.salt_long_lines(G2,\n",
    "                           source = 'epsg:4326',\n",
    "                          target = target_crs,\n",
    "                          thresh = 50,\n",
    "                          factor = 1)\n",
    "    \n",
    "    \n",
    "    return G3\n",
    "    "
   ]
  },
  {
   "cell_type": "code",
   "execution_count": 5,
   "metadata": {},
   "outputs": [],
   "source": [
    "def get_time(t1, t2):\n",
    "    \n",
    "    diff = t2 - t1\n",
    "    \n",
    "    c = round(diff.total_seconds() / 60, 2)\n",
    "    \n",
    "    return c"
   ]
  },
  {
   "cell_type": "code",
   "execution_count": 6,
   "metadata": {},
   "outputs": [],
   "source": [
    "def get_crs(string):\n",
    "    \n",
    "    crs_dict = {\n",
    "    'Coron' : 'epsg:25391', 'Puerto Princesa': 'epsg:25391', 'El Nido' : 'epsg:25391', 'Davao City' : 'epsg:25391', \n",
    "    'Tashkent' : 'epsg:28411', 'Hebron' : 'epsg:2039', 'Bethlehem' : 'epsg:2039', 'Lima' : 'epsg:24891', 'Vinh Long' : 'epsg:2045', \n",
    "    'Khanh Hoa' : 'epsg:2045', 'Osh' : 'epsg:7685', 'Monrovia': 'epsg:2137'\n",
    "    }\n",
    "    \n",
    "    return crs_dict['{}'.format(string)]\n",
    "    "
   ]
  },
  {
   "cell_type": "code",
   "execution_count": 43,
   "metadata": {},
   "outputs": [],
   "source": [
    "def get_accessibility(place, grid_size=100):\n",
    "        \n",
    "    t1= datetime.datetime.now()\n",
    "    string = place.split(',')[0]\n",
    "\n",
    "    poly = get_polygon(string)\n",
    "\n",
    "    if poly == -1:\n",
    "        boundary_GDF = ox.gdf_from_place('{}'.format(string),which_result=2)\n",
    "        xmin = boundary_GDF.bbox_west[0]\n",
    "        xmax = boundary_GDF.bbox_east[0]\n",
    "        ymin = boundary_GDF.bbox_south[0]\n",
    "        ymax = boundary_GDF.bbox_north[0]\n",
    "    else:\n",
    "        bounds = poly.bounds\n",
    "        xmin = bounds[0]\n",
    "        xmax = bounds[2]\n",
    "        ymin = bounds[1]\n",
    "        ymax = bounds[3]\n",
    "    \n",
    "    boundary_GDF = ox.gdf_from_place('{}'.format(string),which_result=1)\n",
    "    \n",
    "    osm_schools = get_amenities(string, 'schools')\n",
    "    \n",
    "    osm_hosp = get_amenities(string, 'healthcare')\n",
    "\n",
    "    t2 = datetime.datetime.now()\n",
    "    \n",
    "    print('{} minutes elapsed!'.format(get_time(t1, t2)))\n",
    "    #### For drive network\n",
    "    \n",
    "    crs = get_crs(string)\n",
    "\n",
    "    G_drive = get_graph(string,boundary_GDF, 'drive', target_crs= crs)\n",
    "    \n",
    "    t3 = datetime.datetime.now()\n",
    "    \n",
    "    print('{} minutes elapsed!'.format(get_time(t1, t3)))\n",
    "    print('Snapping OSM data to drive network')\n",
    "    \n",
    "    schools = gn.pandana_snap(G_drive, osm_schools, target_crs=crs, add_dist_to_node_col=True)\n",
    "    \n",
    "    health = gn.pandana_snap(G_drive, osm_hosp,target_crs=crs,  add_dist_to_node_col=True)\n",
    "    \n",
    "    #node_gdf_drive = ox.graph_to_gdfs(G_drive, nodes=True, edges=False)\n",
    "    #node_gdf_drive = gn.pandana_snap(G_drive, node_gdf_drive)\n",
    "    \n",
    "    t4 = datetime.datetime.now()\n",
    "    \n",
    "    print('{} minutes elapsed!'.format(get_time(t1, t4)))\n",
    "    \n",
    "    fail_value = 9999\n",
    "    \n",
    "    print('Creating fishnet')\n",
    "    make_fishnet('data/{a}/{b}_{c}_grid.shp'.format(a=string,b=string, c='fishnet'),xmin, xmax, ymin, ymax,grid_size,grid_size) \n",
    "    # takes xmin, xmax, ymin, ymax   \n",
    "    \n",
    "    \n",
    "    grid=gpd.read_file('data/{a}/{b}_{c}_grid.shp'.format(a=string,b=string, c='fishnet'))\n",
    "    \n",
    "    grid['centroid'] = grid.geometry.centroid\n",
    "    grid_graph = grid[['FID', 'centroid']]\n",
    "    grid_graph.rename(columns = {'centroid':'geometry'}, inplace=True)\n",
    "    grid_graph = gpd.GeoDataFrame(grid_graph)\n",
    "    grid_graph.set_geometry(col='geometry', crs=crs, inplace=True)\n",
    "    \n",
    "    grid_graph = gn.pandana_snap(G_drive, grid_graph,target_crs=crs,  add_dist_to_node_col=True)\n",
    "    \n",
    "    t5 = datetime.datetime.now()\n",
    "    \n",
    "    print('{} minutes elapsed!'.format(get_time(t1, t5)))\n",
    "    \n",
    "    schools.set_geometry(col='geometry', crs=crs, inplace=True)\n",
    "    health.set_geometry(col='geometry', crs=crs, inplace=True)\n",
    "    \n",
    "    importlib.reload(gn)\n",
    "    print('Calculating OD matrix for drive network')\n",
    "    #schools_OD_drive = gn.calculate_OD(G=G_drive, origins=list(node_gdf_drive.NN), destinations = list(schools.NN), \n",
    "    #                             fail_value = fail_value, weight='time')\n",
    "    \n",
    "    #health_OD_drive = gn.calculate_OD(G=G_drive, origins=list(node_gdf_drive.NN), destinations = list(health.NN), \n",
    "    #                         fail_value = fail_value, weight='time')\n",
    "    \n",
    "    schools_OD_drive = gn.calculate_OD(G=G_drive, origins=list(grid_graph.NN), destinations = list(schools.NN), \n",
    "                                 fail_value = fail_value, weight='distance')\n",
    "    \n",
    "    health_OD_drive = gn.calculate_OD(G=G_drive, origins=list(grid_graph.NN), destinations = list(health.NN), \n",
    "                             fail_value = fail_value, weight='distance')\n",
    "    \n",
    "    #node_gdf_drive['distance_school'] = [schools_OD_drive[i].min() for i in range(schools_OD_drive.shape[0])]\n",
    "    #node_gdf_drive['distance_hospital'] = [health_OD_drive[i].min() for i in range(health_OD_drive.shape[0])]\n",
    "    \n",
    "    grid_graph['school_drive'] = [schools_OD_drive[i].min() for i in range(schools_OD_drive.shape[0])]\n",
    "    grid_graph['hosp_drive'] = [health_OD_drive[i].min() for i in range(health_OD_drive.shape[0])]\n",
    "    \n",
    "    grid['school_trans'] = grid_graph['school_drive']\n",
    "    grid['hosp_trans'] = grid_graph['hosp_drive']\n",
    "    grid['NN_dist'] = grid_graph.NN_dist\n",
    "    grid['total_school'] = grid_graph.school_drive + grid_graph.NN_dist\n",
    "    grid['total_hosp'] = grid_graph.hosp_drive + grid_graph.NN_dist\n",
    "    \n",
    "    \n",
    "    \n",
    "    grid.drop(columns=['centroid'], inplace=True)\n",
    "    #grid.crs = {'init':'epsg:4326'}\n",
    "    grid = grid[grid.total_school != 9999.0]\n",
    "    print('Writing output file!!')\n",
    "    grid.to_file('data/{}/Access_School_Hosp_{}_{}.shp'.format(string, string, grid_size))\n",
    "    print('Done!!!')"
   ]
  },
  {
   "cell_type": "code",
   "execution_count": 34,
   "metadata": {},
   "outputs": [
    {
     "name": "stderr",
     "output_type": "stream",
     "text": [
      "/nfshome/gb1877/.conda/envs/osm2/lib/python3.6/site-packages/ipykernel_launcher.py:29: SettingWithCopyWarning: \n",
      "A value is trying to be set on a copy of a slice from a DataFrame.\n",
      "Try using .loc[row_indexer,col_indexer] = value instead\n",
      "\n",
      "See the caveats in the documentation: http://pandas.pydata.org/pandas-docs/stable/indexing.html#indexing-view-versus-copy\n",
      "/nfshome/gb1877/.conda/envs/osm2/lib/python3.6/site-packages/ipykernel_launcher.py:30: SettingWithCopyWarning: \n",
      "A value is trying to be set on a copy of a slice from a DataFrame.\n",
      "Try using .loc[row_indexer,col_indexer] = value instead\n",
      "\n",
      "See the caveats in the documentation: http://pandas.pydata.org/pandas-docs/stable/indexing.html#indexing-view-versus-copy\n"
     ]
    },
    {
     "name": "stdout",
     "output_type": "stream",
     "text": [
      "Saving OSM data to shapefile at path data/Tashkent\n",
      "Saving OSM data to shapefile at path data/Tashkent\n",
      "0.36 minutes elapsed!\n",
      "Fetching graph data for Tashkent\n",
      "peartree version: 0.6.1 \n",
      "networkx version: 2.2 \n",
      "matplotlib version: 3.0.2 \n",
      "osmnx version: 0.9 \n",
      "WARNING: \"factor behavior has changed! now divides rather than multiplies. This change brings gn.salt_long_lines into line with gn.convert_network_to_time\" \n",
      "Identified 17107 unique edge(s) longer than 50. \n",
      "Beginning new node creation...\n",
      "137912 new edges added and 29840 removed to bring total edges to 145276\n",
      "51849 new nodes added to bring total nodes to 66628\n",
      "1.82 minutes elapsed!\n",
      "Snapping OSM data to drive network\n",
      "2.17 minutes elapsed!\n",
      "Creating fishnet\n",
      "3.14 minutes elapsed!\n",
      "peartree version: 0.6.1 \n",
      "networkx version: 2.2 \n",
      "matplotlib version: 3.0.2 \n",
      "osmnx version: 0.9 \n",
      "Calculating OD matrix for drive network\n",
      "print origins type\n",
      "<class 'list'>\n",
      "weighted_origins equals false\n",
      "print origins type\n",
      "<class 'list'>\n",
      "weighted_origins equals false\n",
      "Writing output file!!\n"
     ]
    },
    {
     "name": "stderr",
     "output_type": "stream",
     "text": [
      "/nfshome/gb1877/.conda/envs/osm2/lib/python3.6/site-packages/geopandas/io/file.py:108: FionaDeprecationWarning: Use fiona.Env() instead.\n",
      "  with fiona.drivers():\n"
     ]
    },
    {
     "name": "stdout",
     "output_type": "stream",
     "text": [
      "Done!!!\n"
     ]
    }
   ],
   "source": [
    "get_accessibility('Tashkent, Uzbekistan', 100)"
   ]
  },
  {
   "cell_type": "code",
   "execution_count": 47,
   "metadata": {},
   "outputs": [],
   "source": [
    "priority_list = [\n",
    "    'Coron, Philippines', 'Puerto Princesa, Philippines', 'El Nido, Philippines', 'Davao City, Philippines', \n",
    "    'Tashkent, Uzbekistan' 'Hebron, West Bank', 'Bethlehem, West Bank', 'Lima, Peru', 'Vinh Long, Vietnam', \n",
    "    'Khanh Hoa, Vietnam', 'Osh, Kyrgyzstan', 'Monrovia, Liberia'\n",
    "]"
   ]
  },
  {
   "cell_type": "code",
   "execution_count": 44,
   "metadata": {},
   "outputs": [
    {
     "name": "stderr",
     "output_type": "stream",
     "text": [
      "/nfshome/gb1877/.conda/envs/osm2/lib/python3.6/site-packages/ipykernel_launcher.py:29: SettingWithCopyWarning: \n",
      "A value is trying to be set on a copy of a slice from a DataFrame.\n",
      "Try using .loc[row_indexer,col_indexer] = value instead\n",
      "\n",
      "See the caveats in the documentation: http://pandas.pydata.org/pandas-docs/stable/indexing.html#indexing-view-versus-copy\n",
      "/nfshome/gb1877/.conda/envs/osm2/lib/python3.6/site-packages/ipykernel_launcher.py:30: SettingWithCopyWarning: \n",
      "A value is trying to be set on a copy of a slice from a DataFrame.\n",
      "Try using .loc[row_indexer,col_indexer] = value instead\n",
      "\n",
      "See the caveats in the documentation: http://pandas.pydata.org/pandas-docs/stable/indexing.html#indexing-view-versus-copy\n"
     ]
    },
    {
     "name": "stdout",
     "output_type": "stream",
     "text": [
      "Saving OSM data to shapefile at path data/Bethlehem\n",
      "Saving OSM data to shapefile at path data/Bethlehem\n",
      "0.07 minutes elapsed!\n",
      "Fetching graph data for Bethlehem\n",
      "peartree version: 0.6.1 \n",
      "networkx version: 2.2 \n",
      "matplotlib version: 3.0.2 \n",
      "osmnx version: 0.9 \n",
      "WARNING: \"factor behavior has changed! now divides rather than multiplies. This change brings gn.salt_long_lines into line with gn.convert_network_to_time\" \n",
      "Identified 3242 unique edge(s) longer than 50. \n",
      "Beginning new node creation...\n",
      "32482 new edges added and 6181 removed to bring total edges to 34614\n",
      "12999 new nodes added to bring total nodes to 16652\n",
      "0.53 minutes elapsed!\n",
      "Snapping OSM data to drive network\n",
      "0.61 minutes elapsed!\n",
      "Creating fishnet\n",
      "0.83 minutes elapsed!\n",
      "peartree version: 0.6.1 \n",
      "networkx version: 2.2 \n",
      "matplotlib version: 3.0.2 \n",
      "osmnx version: 0.9 \n",
      "Calculating OD matrix for drive network\n",
      "print origins type\n",
      "<class 'list'>\n",
      "weighted_origins equals false\n",
      "print origins type\n",
      "<class 'list'>\n",
      "weighted_origins equals false\n",
      "Writing output file!!\n"
     ]
    },
    {
     "name": "stderr",
     "output_type": "stream",
     "text": [
      "/nfshome/gb1877/.conda/envs/osm2/lib/python3.6/site-packages/geopandas/io/file.py:108: FionaDeprecationWarning: Use fiona.Env() instead.\n",
      "  with fiona.drivers():\n"
     ]
    },
    {
     "name": "stdout",
     "output_type": "stream",
     "text": [
      "Done!!!\n"
     ]
    }
   ],
   "source": [
    "get_accessibility('Bethlehem, West Bank', 250)"
   ]
  },
  {
   "cell_type": "code",
   "execution_count": 45,
   "metadata": {},
   "outputs": [],
   "source": [
    "shp2 = gpd.GeoDataFrame.from_file('data/Bethlehem/Access_School_Hosp_Bethlehem_250.shp')"
   ]
  },
  {
   "cell_type": "code",
   "execution_count": 51,
   "metadata": {},
   "outputs": [],
   "source": [
    "shp_school = gpd.GeoDataFrame.from_file('data/Bethlehem/Bethlehem_schools.shp')"
   ]
  },
  {
   "cell_type": "code",
   "execution_count": 46,
   "metadata": {},
   "outputs": [
    {
     "data": {
      "text/html": [
       "<div>\n",
       "<style scoped>\n",
       "    .dataframe tbody tr th:only-of-type {\n",
       "        vertical-align: middle;\n",
       "    }\n",
       "\n",
       "    .dataframe tbody tr th {\n",
       "        vertical-align: top;\n",
       "    }\n",
       "\n",
       "    .dataframe thead th {\n",
       "        text-align: right;\n",
       "    }\n",
       "</style>\n",
       "<table border=\"1\" class=\"dataframe\">\n",
       "  <thead>\n",
       "    <tr style=\"text-align: right;\">\n",
       "      <th></th>\n",
       "      <th>FID</th>\n",
       "      <th>school_tra</th>\n",
       "      <th>hosp_trans</th>\n",
       "      <th>NN_dist</th>\n",
       "      <th>total_scho</th>\n",
       "      <th>total_hosp</th>\n",
       "      <th>geometry</th>\n",
       "    </tr>\n",
       "  </thead>\n",
       "  <tbody>\n",
       "    <tr>\n",
       "      <th>0</th>\n",
       "      <td>0</td>\n",
       "      <td>40.0</td>\n",
       "      <td>76.0</td>\n",
       "      <td>4502.123484</td>\n",
       "      <td>4542.123484</td>\n",
       "      <td>4578.123484</td>\n",
       "      <td>POLYGON ((35.08135986328136 31.74173355102539,...</td>\n",
       "    </tr>\n",
       "    <tr>\n",
       "      <th>1</th>\n",
       "      <td>1</td>\n",
       "      <td>42.0</td>\n",
       "      <td>71.0</td>\n",
       "      <td>4277.701598</td>\n",
       "      <td>4319.701598</td>\n",
       "      <td>4348.701598</td>\n",
       "      <td>POLYGON ((35.08135986328136 31.73910067059424,...</td>\n",
       "    </tr>\n",
       "    <tr>\n",
       "      <th>2</th>\n",
       "      <td>2</td>\n",
       "      <td>48.0</td>\n",
       "      <td>77.0</td>\n",
       "      <td>4040.891024</td>\n",
       "      <td>4088.891024</td>\n",
       "      <td>4117.891024</td>\n",
       "      <td>POLYGON ((35.08135986328136 31.73646779016309,...</td>\n",
       "    </tr>\n",
       "    <tr>\n",
       "      <th>3</th>\n",
       "      <td>3</td>\n",
       "      <td>48.0</td>\n",
       "      <td>77.0</td>\n",
       "      <td>3802.793069</td>\n",
       "      <td>3850.793069</td>\n",
       "      <td>3879.793069</td>\n",
       "      <td>POLYGON ((35.08135986328136 31.73383490973194,...</td>\n",
       "    </tr>\n",
       "    <tr>\n",
       "      <th>4</th>\n",
       "      <td>4</td>\n",
       "      <td>48.0</td>\n",
       "      <td>77.0</td>\n",
       "      <td>3572.692517</td>\n",
       "      <td>3620.692517</td>\n",
       "      <td>3649.692517</td>\n",
       "      <td>POLYGON ((35.08135986328136 31.73120202930079,...</td>\n",
       "    </tr>\n",
       "  </tbody>\n",
       "</table>\n",
       "</div>"
      ],
      "text/plain": [
       "   FID  school_tra  hosp_trans      NN_dist   total_scho   total_hosp  \\\n",
       "0    0        40.0        76.0  4502.123484  4542.123484  4578.123484   \n",
       "1    1        42.0        71.0  4277.701598  4319.701598  4348.701598   \n",
       "2    2        48.0        77.0  4040.891024  4088.891024  4117.891024   \n",
       "3    3        48.0        77.0  3802.793069  3850.793069  3879.793069   \n",
       "4    4        48.0        77.0  3572.692517  3620.692517  3649.692517   \n",
       "\n",
       "                                            geometry  \n",
       "0  POLYGON ((35.08135986328136 31.74173355102539,...  \n",
       "1  POLYGON ((35.08135986328136 31.73910067059424,...  \n",
       "2  POLYGON ((35.08135986328136 31.73646779016309,...  \n",
       "3  POLYGON ((35.08135986328136 31.73383490973194,...  \n",
       "4  POLYGON ((35.08135986328136 31.73120202930079,...  "
      ]
     },
     "execution_count": 46,
     "metadata": {},
     "output_type": "execute_result"
    }
   ],
   "source": [
    "shp2.head()"
   ]
  },
  {
   "cell_type": "code",
   "execution_count": 47,
   "metadata": {},
   "outputs": [
    {
     "ename": "NameError",
     "evalue": "name 'shp_school' is not defined",
     "output_type": "error",
     "traceback": [
      "\u001b[0;31m---------------------------------------------------------------------------\u001b[0m",
      "\u001b[0;31mNameError\u001b[0m                                 Traceback (most recent call last)",
      "\u001b[0;32m<ipython-input-47-1143d65d0efb>\u001b[0m in \u001b[0;36m<module>\u001b[0;34m\u001b[0m\n\u001b[1;32m      1\u001b[0m \u001b[0max\u001b[0m \u001b[0;34m=\u001b[0m \u001b[0mshp2\u001b[0m\u001b[0;34m.\u001b[0m\u001b[0mplot\u001b[0m\u001b[0;34m(\u001b[0m\u001b[0mcolumn\u001b[0m\u001b[0;34m=\u001b[0m\u001b[0;34m'total_scho'\u001b[0m\u001b[0;34m,\u001b[0m \u001b[0mcmap\u001b[0m\u001b[0;34m=\u001b[0m\u001b[0;34m'viridis'\u001b[0m\u001b[0;34m,\u001b[0m\u001b[0mfigsize\u001b[0m\u001b[0;34m=\u001b[0m\u001b[0;34m[\u001b[0m\u001b[0;36m10\u001b[0m\u001b[0;34m,\u001b[0m\u001b[0;36m10\u001b[0m\u001b[0;34m]\u001b[0m \u001b[0;34m)\u001b[0m\u001b[0;34m\u001b[0m\u001b[0;34m\u001b[0m\u001b[0m\n\u001b[0;32m----> 2\u001b[0;31m \u001b[0mshp_school\u001b[0m\u001b[0;34m.\u001b[0m\u001b[0mplot\u001b[0m\u001b[0;34m(\u001b[0m\u001b[0mcolor\u001b[0m\u001b[0;34m=\u001b[0m\u001b[0;34m'r'\u001b[0m\u001b[0;34m,\u001b[0m \u001b[0max\u001b[0m\u001b[0;34m=\u001b[0m\u001b[0max\u001b[0m\u001b[0;34m)\u001b[0m\u001b[0;34m\u001b[0m\u001b[0;34m\u001b[0m\u001b[0m\n\u001b[0m",
      "\u001b[0;31mNameError\u001b[0m: name 'shp_school' is not defined"
     ]
    },
    {
     "data": {
      "image/png": "[encoded data removed]",
      "text/plain": [
       "<Figure size 720x720 with 1 Axes>"
      ]
     },
     "metadata": {
      "needs_background": "light"
     },
     "output_type": "display_data"
    }
   ],
   "source": [
    "ax = shp2.plot(column='total_scho', cmap='viridis',figsize=[10,10] )\n",
    "shp_school.plot(color='r', ax=ax)"
   ]
  },
  {
   "cell_type": "code",
   "execution_count": 74,
   "metadata": {},
   "outputs": [
    {
     "name": "stdout",
     "output_type": "stream",
     "text": [
      "Saving OSM data to shapefile at path data/Coron\n",
      "Saving OSM data to shapefile at path data/Coron\n",
      "0.04 minutes elapsed!\n",
      "Fetching graph data for Coron\n",
      "peartree version: 0.6.1 \n",
      "networkx version: 2.2 \n",
      "matplotlib version: 3.0.2 \n",
      "osmnx version: 0.9 \n",
      "WARNING: \"factor behavior has changed! now divides rather than multiplies. This change brings gn.salt_long_lines into line with gn.convert_network_to_time\" \n",
      "Identified 101 unique edge(s) longer than 50. \n",
      "Beginning new node creation...\n",
      "800 new edges added and 199 removed to bring total edges to 823\n",
      "299 new nodes added to bring total nodes to 392\n",
      "0.08 minutes elapsed!\n",
      "Snapping OSM data to drive network\n",
      "0.09 minutes elapsed!\n",
      "Creating fishnet\n",
      "0.1 minutes elapsed!\n",
      "peartree version: 0.6.1 \n",
      "networkx version: 2.2 \n",
      "matplotlib version: 3.0.2 \n",
      "osmnx version: 0.9 \n",
      "Calculating OD matrix for drive network\n",
      "print origins type\n",
      "<class 'list'>\n",
      "weighted_origins equals false\n",
      "print origins type\n",
      "<class 'list'>\n",
      "weighted_origins equals false\n",
      "Writing output file!!\n"
     ]
    },
    {
     "name": "stderr",
     "output_type": "stream",
     "text": [
      "/nfshome/gb1877/.conda/envs/osm2/lib/python3.6/site-packages/geopandas/io/file.py:108: FionaDeprecationWarning: Use fiona.Env() instead.\n",
      "  with fiona.drivers():\n"
     ]
    },
    {
     "name": "stdout",
     "output_type": "stream",
     "text": [
      "Done!!!\n"
     ]
    }
   ],
   "source": [
    "get_accessibility('Coron, Philippines', 100)"
   ]
  },
  {
   "cell_type": "code",
   "execution_count": 75,
   "metadata": {},
   "outputs": [],
   "source": [
    "shp1 = gpd.GeoDataFrame.from_file('data/Coron/Access_School_Hosp_Coron_100.shp')"
   ]
  },
  {
   "cell_type": "code",
   "execution_count": 76,
   "metadata": {},
   "outputs": [
    {
     "data": {
      "image/png": "[encoded data removed]",
      "text/plain": [
       "<Figure size 720x720 with 1 Axes>"
      ]
     },
     "metadata": {
      "needs_background": "light"
     },
     "output_type": "display_data"
    }
   ],
   "source": [
    "ax = shp1.plot(column='total_scho', cmap='viridis',figsize=[10,10] )"
   ]
  },
  {
   "cell_type": "code",
   "execution_count": null,
   "metadata": {},
   "outputs": [],
   "source": []
  }
 ],
 "metadata": {
  "kernelspec": {
   "display_name": "OSM2",
   "language": "python",
   "name": "osm2"
  },
  "language_info": {
   "codemirror_mode": {
    "name": "ipython",
    "version": 3
   },
   "file_extension": ".py",
   "mimetype": "text/x-python",
   "name": "python",
   "nbconvert_exporter": "python",
   "pygments_lexer": "ipython3",
   "version": "3.6.7"
  }
 },
 "nbformat": 4,
 "nbformat_minor": 2
}
