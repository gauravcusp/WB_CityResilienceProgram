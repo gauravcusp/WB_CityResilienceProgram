{
 "cells": [
  {
   "cell_type": "code",
   "execution_count": 1,
   "metadata": {},
   "outputs": [],
   "source": [
    "import osmnx as ox\n",
    "import networkx as nx\n",
    "import matplotlib.cm as cm\n",
    "import matplotlib.colors as colors\n",
    "import pandas as pd\n",
    "import datetime\n",
    "import geocoder\n",
    "import os\n",
    "from apiclient import discovery\n",
    "from httplib2 import Http\n",
    "import oauth2client\n",
    "import io\n",
    "from googleapiclient.http import MediaIoBaseDownload\n",
    "from oauth2client import file, client, tools\n",
    "%matplotlib inline\n",
    "ox.config(log_console=True, use_cache=True)"
   ]
  },
  {
   "cell_type": "markdown",
   "metadata": {},
   "source": [
    "Setting up Google Drive API [Tutorial](https://medium.com/@umdfirecoml/a-step-by-step-guide-on-how-to-download-your-google-drive-data-to-your-jupyter-notebook-using-the-52f4ce63c66c)"
   ]
  },
  {
   "cell_type": "code",
   "execution_count": 2,
   "metadata": {},
   "outputs": [],
   "source": [
    "obj = lambda: None\n",
    "lmao = {\"auth_host_name\":'localhost', 'noauth_local_webserver':'store_true', 'auth_host_port':[8080, 8090], 'logging_level':'ERROR'}\n",
    "for k, v in lmao.items():\n",
    "    setattr(obj, k, v)\n",
    "    \n",
    "# authorization boilerplate code\n",
    "SCOPES = 'https://www.googleapis.com/auth/drive.readonly'\n",
    "store = file.Storage('token.json')\n",
    "creds = store.get()\n",
    "# The following will give you a link if token.json does not exist, the link allows the user to give this app permission\n",
    "if not creds or creds.invalid:\n",
    "    flow = client.flow_from_clientsecrets('client_id.json', SCOPES)\n",
    "    creds = tools.run_flow(flow, store, obj)"
   ]
  },
  {
   "cell_type": "code",
   "execution_count": 3,
   "metadata": {},
   "outputs": [],
   "source": [
    "cities = ['Batroun', 'Cap-Haitien', 'Lima', 'Montevideo', 'Province of Palawan', 'Sfax', 'Sousse', 'Vinh Long']"
   ]
  },
  {
   "cell_type": "code",
   "execution_count": 4,
   "metadata": {},
   "outputs": [],
   "source": [
    "def list_ids(response):\n",
    "    d={}\n",
    "    page_token =None\n",
    "    \n",
    "    while True:\n",
    "        for file in response.get('files', []):\n",
    "            d[file.get('name')] = file.get('id')\n",
    "            print ('Found file: %s (%s)' % (file.get('name'), file.get('id')))\n",
    "        page_token = response.get('nextPageToken', None)\n",
    "        if page_token is None:\n",
    "            break\n",
    "\n",
    "    \n",
    "    return d"
   ]
  },
  {
   "cell_type": "code",
   "execution_count": 6,
   "metadata": {},
   "outputs": [],
   "source": [
    "def get_files_from_drive():\n",
    "    d1={}\n",
    "    ##\n",
    "    # To access data from 'shared with me' folder, replace q with \n",
    "    #\"sharedWithMe and name= = '{city}' and mimeType = 'application/vnd.google-apps.folder'\".format(city=i)\n",
    "    ##\n",
    "    for i in cities:\n",
    "        response = DRIVE.files().list(q=\"name = '{city}' and mimeType = 'application/vnd.google-apps.folder'\".format(city=i),\n",
    "                                              spaces='drive',\n",
    "                                              fields='nextPageToken, files(id, name)',\n",
    "                                              pageToken=page_token).execute()\n",
    "\n",
    "        di = list_ids(response)    \n",
    "        print('di', di ,'\\n')\n",
    "\n",
    "        response_ = DRIVE.files().list(q=\"'{}' in parents\".format(di['{}'.format(i)]),\n",
    "                                              spaces='drive',\n",
    "                                              fields='nextPageToken, files(id, name)',\n",
    "                                              pageToken=page_token).execute()\n",
    "        d_ = list_ids(response_)\n",
    "        print('d_', d_ ,'\\n')\n",
    "        for j in d_.keys():\n",
    "            file_id = d_[j]\n",
    "            request = DRIVE.files().get_media(fileId=file_id)\n",
    "            # replace the filename and extension in the first field below\n",
    "            try:\n",
    "                os.mkdir('drive_data/{}'.format(i))\n",
    "            except FileExistsError:\n",
    "                pass\n",
    "            except FileNotFoundError:\n",
    "                os.mkdir('drive_data')\n",
    "\n",
    "            s = j.split('.')\n",
    "            try:\n",
    "                ext=s[1]\n",
    "            except IndexError:\n",
    "                ext=None\n",
    "\n",
    "            if ext is None and '_g' not in j:\n",
    "                try:\n",
    "                    os.mkdir('drive_data/{city}/{base}'.format(city=i, base=j))\n",
    "                except FileExistsError:\n",
    "                    pass\n",
    "            else:\n",
    "                fh = io.FileIO('drive_data/{city}/{file}'.format(city=i, file=j), mode='w')\n",
    "            downloader = MediaIoBaseDownload(fh, request)\n",
    "            done = False\n",
    "            while done is False:\n",
    "                try:\n",
    "                    status, done = downloader.next_chunk()\n",
    "                    print(\"Download %d%%.\" % int(status.progress() * 100))\n",
    "                except:\n",
    "                    response_1 = DRIVE.files().list(q=\"'{}' in parents\".format(d_[j]),\n",
    "                                              spaces='drive',\n",
    "                                              fields='nextPageToken, files(id, name)',\n",
    "                                              pageToken=page_token).execute()\n",
    "                    d1 = list_ids(response_1)\n",
    "                    print('d1', d1, '\\n')\n",
    "\n",
    "                    for k in d1.keys():\n",
    "                        file_id = d1[k]\n",
    "                        request = DRIVE.files().get_media(fileId=file_id)\n",
    "                        # replace the filename and extension in the first field below\n",
    "                        try:\n",
    "                            os.mkdir('drive_data/{city}/{base}'.format(city=i, base=j))\n",
    "                        except FileExistsError:\n",
    "                            pass\n",
    "                        fh = io.FileIO('drive_data/{city}/{base}/{child}.{ext}'.format(city=i, base=j, child=k[:-4], ext=k[-3:]), mode='w')\n",
    "                        downloader = MediaIoBaseDownload(fh, request)\n",
    "                        done = False\n",
    "                        while done is False:\n",
    "                            status, done = downloader.next_chunk()\n",
    "                            print(\"Download %d%%.\" % int(status.progress() * 100))\n"
   ]
  },
  {
   "cell_type": "code",
   "execution_count": null,
   "metadata": {},
   "outputs": [],
   "source": []
  }
 ],
 "metadata": {
  "kernelspec": {
   "display_name": "OSMPython",
   "language": "python",
   "name": "osmpython"
  },
  "language_info": {
   "codemirror_mode": {
    "name": "ipython",
    "version": 3
   },
   "file_extension": ".py",
   "mimetype": "text/x-python",
   "name": "python",
   "nbconvert_exporter": "python",
   "pygments_lexer": "ipython3",
   "version": "3.6.7"
  }
 },
 "nbformat": 4,
 "nbformat_minor": 2
}
