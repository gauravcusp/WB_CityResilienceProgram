{
 "cells": [
  {
   "cell_type": "code",
   "execution_count": 1,
   "metadata": {},
   "outputs": [
    {
     "name": "stdout",
     "output_type": "stream",
     "text": [
      "Populating the interactive namespace from numpy and matplotlib\n"
     ]
    }
   ],
   "source": [
    "import osmnx as ox\n",
    "from IPython.display import Image\n",
    "from make_fishnet import make_fishnet\n",
    "import shapely.speedups\n",
    "import geocoder\n",
    "from glob import glob\n",
    "import geopandas as gpd\n",
    "import pylab as pl\n",
    "%pylab inline"
   ]
  },
  {
   "cell_type": "code",
   "execution_count": 13,
   "metadata": {},
   "outputs": [],
   "source": [
    "def get_polygon(string):\n",
    "    \n",
    "    lis = glob('data/AOI/*/*.shp')\n",
    "    \n",
    "    city = []\n",
    "    for i in lis:\n",
    "        x = i.split('/')[-2]\n",
    "        city.append(x.split('_')[0])\n",
    "        \n",
    "    if string in city:\n",
    "        l = glob('data/AOI/{a}/*.shp'.format(a=string))\n",
    "        adm = gpd.GeoDataFrame.from_file(l[0])\n",
    "        boundary_poly = adm.geometry.values[0]\n",
    "    else:\n",
    "        boundary_GDF = ox.gdf_from_place('{}'.format(string),which_result=1)\n",
    "        boundary_poly = boundary_GDF.loc[0,'geometry']\n",
    "        if boundary_poly.geom_type == 'Polygon':\n",
    "            boundary_poly = boundary_poly\n",
    "        else:\n",
    "            try:\n",
    "                boundary_GDF = ox.gdf_from_place('{}'.format(string),which_result=2)\n",
    "                boundary_poly = boundary_GDF.loc[0,'geometry']\n",
    "            except:\n",
    "                return -1\n",
    "    \n",
    "    return boundary_poly"
   ]
  },
  {
   "cell_type": "code",
   "execution_count": 3,
   "metadata": {},
   "outputs": [],
   "source": [
    "def get_graph(place):\n",
    "    string = place.split(',')[0]\n",
    "    \n",
    "    print('Fetching graph data for {}'.format(place))\n",
    "    \n",
    "    poly = get_polygon(string)\n",
    "    \n",
    "    if poly == -1:\n",
    "        gdf = ox.gdf_from_place('{}'.format(string))\n",
    "        G = ox.graph_from_bbox(gdf.bbox_north, gdf.bbox_south, gdf.bbox_east, gdf.bbox_west)\n",
    "    else:\n",
    "        G = ox.graph_from_polygon(poly, network_type='drive')\n",
    "\n",
    "    G = ox.project_graph(G)\n",
    "    \n",
    "    return G"
   ]
  },
  {
   "cell_type": "code",
   "execution_count": 10,
   "metadata": {},
   "outputs": [],
   "source": [
    "def get_node_count(place_name, pixel_size=None):\n",
    "    \n",
    "    ## Setting initial crs\n",
    "    crs = {'init':'epsg:4326'}\n",
    "    \n",
    "    string = place_name.split(',')[0]\n",
    "    \n",
    "    print('Fetching network data from OSM for {}'.format(place_name))\n",
    "    \n",
    "    ## Grabbing data from OSM\n",
    "    G = get_graph(place_name)\n",
    "    \n",
    "    gdf_proj = ox.graph_to_gdfs(G, nodes=True, edges=False)\n",
    "    \n",
    "    gdf = ox.gdf_from_place('{}'.format(string))\n",
    "    \n",
    "    if pixel_size is not None:\n",
    "        size = pixel_size\n",
    "    else:\n",
    "        size = 500\n",
    "    \n",
    "    print('Creating fishnet')\n",
    "    \n",
    "    ## Creating fishnet and exporting the file\n",
    "    try:\n",
    "        os.mkdir('data/grid_data')\n",
    "    except FileExistsError:\n",
    "        pass\n",
    "    \n",
    "    make_fishnet('data/grid_data/Road_grid_{}.shp'.format(string), gdf.bbox_west,  gdf.bbox_east, gdf.bbox_south,\n",
    "                 gdf.bbox_north, size, size)\n",
    "    grid = gpd.GeoDataFrame.from_file('data/grid_data/Road_grid_{}.shp'.format(string))\n",
    "    grid.crs = {'init':'epsg:4326'}\n",
    "    grid = grid.to_crs(gdf_proj.crs)\n",
    "    \n",
    "    \n",
    "    gdf_proj = gdf_proj.reset_index()\n",
    "    \n",
    "    ## Cleaning up the data by rmeoving invalid geometries\n",
    "    \n",
    "    gdf_proj = gdf_proj.rename(columns ={'index':'id'})\n",
    "    gdf_proj['geomType'] = gdf_proj.geom_type\n",
    "    gdf_proj = gdf_proj[gdf_proj['geomType'] != 'GeometryCollection']\n",
    "    \n",
    "    print('Merging datasets and calculating the count of nodes in each pixel')\n",
    "    \n",
    "    merged = gpd.sjoin( grid, gdf_proj, how='left', op='intersects')\n",
    "    grp = merged.groupby('FID').count()\n",
    "    \n",
    "    grid['node_count'] = grp.id\n",
    "    \n",
    "    try:\n",
    "        os.mkdir('data/{}'.format(string))\n",
    "    except FileExistsError:\n",
    "        pass\n",
    "\n",
    "    grid.to_file('data/{a}/{a}_roads_fishnet.shp'.format(a=string)) "
   ]
  },
  {
   "cell_type": "code",
   "execution_count": 11,
   "metadata": {},
   "outputs": [
    {
     "name": "stdout",
     "output_type": "stream",
     "text": [
      "Fetching network data from OSM for Piedmont, California\n",
      "Fetching graph data for Piedmont, California\n",
      "Creating fishnet\n",
      "Merging datasets and calculating the count of nodes in each pixel\n",
      "CPU times: user 5.83 s, sys: 94.2 ms, total: 5.93 s\n",
      "Wall time: 12.5 s\n"
     ]
    }
   ],
   "source": [
    "%%time\n",
    "\n",
    "get_node_count('Piedmont, California')"
   ]
  },
  {
   "cell_type": "code",
   "execution_count": 14,
   "metadata": {},
   "outputs": [
    {
     "name": "stdout",
     "output_type": "stream",
     "text": [
      "Fetching network data from OSM for Addis Ababa, Ethiopia\n",
      "Fetching graph data for Addis Ababa, Ethiopia\n",
      "Creating fishnet\n",
      "Merging datasets and calculating the count of nodes in each pixel\n",
      "CPU times: user 14min 11s, sys: 6.58 s, total: 14min 18s\n",
      "Wall time: 14min 24s\n"
     ]
    }
   ],
   "source": [
    "%%time\n",
    "\n",
    "get_node_count('Addis Ababa, Ethiopia')"
   ]
  },
  {
   "cell_type": "code",
   "execution_count": null,
   "metadata": {},
   "outputs": [],
   "source": []
  }
 ],
 "metadata": {
  "kernelspec": {
   "display_name": "osmnx",
   "language": "python",
   "name": "osmnx"
  },
  "language_info": {
   "codemirror_mode": {
    "name": "ipython",
    "version": 3
   },
   "file_extension": ".py",
   "mimetype": "text/x-python",
   "name": "python",
   "nbconvert_exporter": "python",
   "pygments_lexer": "ipython3",
   "version": "3.7.3"
  }
 },
 "nbformat": 4,
 "nbformat_minor": 2
}
