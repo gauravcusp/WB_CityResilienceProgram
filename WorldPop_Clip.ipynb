{
 "cells": [
  {
   "cell_type": "code",
   "execution_count": 1,
   "metadata": {},
   "outputs": [
    {
     "name": "stdout",
     "output_type": "stream",
     "text": [
      "Populating the interactive namespace from numpy and matplotlib\n"
     ]
    }
   ],
   "source": [
    "import arcpy\n",
    "from arcgis.gis import GIS\n",
    "import pandas as pd\n",
    "import numpy as np\n",
    "from arcgis.features import SpatialDataFrame\n",
    "from arcpy.sa import *\n",
    "from arcgis.geocoding import geocode\n",
    "import pylab as pl\n",
    "%pylab inline"
   ]
  },
  {
   "cell_type": "code",
   "execution_count": 2,
   "metadata": {},
   "outputs": [],
   "source": [
    "g = GIS(url='https://nkwjones.maps.arcgis.com',username='nj935_',password='')"
   ]
  },
  {
   "cell_type": "code",
   "execution_count": 3,
   "metadata": {},
   "outputs": [
    {
     "data": {
      "application/vnd.jupyter.widget-view+json": {
       "model_id": "1271019e3b9444b2800af0d3c280d856",
       "version_major": 2,
       "version_minor": 0
      },
      "text/plain": [
       "MapView(basemaps=['dark-gray', 'dark-gray-vector', 'gray', 'gray-vector', 'hybrid', 'national-geographic', 'oc…"
      ]
     },
     "metadata": {},
     "output_type": "display_data"
    }
   ],
   "source": [
    "g.map(\"USA\")"
   ]
  },
  {
   "cell_type": "code",
   "execution_count": 9,
   "metadata": {},
   "outputs": [],
   "source": [
    "ESRI_pop = g.content.get('625e9da1afed40b78aaf412f519b22d3')\n",
    "pop_lyr = ESRI_pop.layers[0]"
   ]
  },
  {
   "cell_type": "code",
   "execution_count": 12,
   "metadata": {},
   "outputs": [],
   "source": [
    "ESRI_elevation = g.content.get('58a541efc59545e6b7137f961d7de883')\n",
    "elev_lyr = ESRI_elevation.layers[0]"
   ]
  },
  {
   "cell_type": "code",
   "execution_count": 13,
   "metadata": {},
   "outputs": [],
   "source": [
    "world_boundaries = g.content.get(\"2b93b06dc0dc4e809d3c8db5cb96ba69\")\n",
    "boundary_lyr = world_boundaries.layers[0]"
   ]
  },
  {
   "cell_type": "code",
   "execution_count": 49,
   "metadata": {},
   "outputs": [],
   "source": [
    "phase2_list = ['Bethlehem, West Bank',\n",
    "'Hebron, West Bank',\n",
    "'Lima, Peru', #– metropolitan area\n",
    "'Vinh Long, Vietnam',\n",
    "'Khanh Hoa, Vietnam', #– focused on the districts of Nha Trang, Cam Ranh, Ninh Hoa and Van Ninh\n",
    "'Semarang, Indonesia',\n",
    "'Osh, Kyrgyz',\n",
    "'Sfax, Tunisia',\n",
    "'Sousse, Tunisia',\n",
    "'Tunis, Tunisia',\n",
    "'Batroun, Lebanon',\n",
    "'Bint Jbeil, Lebanon',\n",
    "'Montevideo, Uruguay',\n",
    "'Nord, Haiti'#'Cap-Haitien, Haiti',\n",
    "'Porto Alegre, Brazil', #– focused on the 4th district\n",
    "'Ibadan, Nigeria',\n",
    "'Mogadishu, Somalia',\n",
    "'Garowe, Somalia ',\n",
    "'Monrovia, Liberia',\n",
    "\"Abidjan, Cote d’Ivoire\",\n",
    "'Blantyre, Malawi',\n",
    "'Rize, Turkey','Kahramanmaras, Turkey']"
   ]
  },
  {
   "cell_type": "code",
   "execution_count": 18,
   "metadata": {},
   "outputs": [
    {
     "data": {
      "text/html": [
       "<div>\n",
       "<style scoped>\n",
       "    .dataframe tbody tr th:only-of-type {\n",
       "        vertical-align: middle;\n",
       "    }\n",
       "\n",
       "    .dataframe tbody tr th {\n",
       "        vertical-align: top;\n",
       "    }\n",
       "\n",
       "    .dataframe thead th {\n",
       "        text-align: right;\n",
       "    }\n",
       "</style>\n",
       "<table border=\"1\" class=\"dataframe\">\n",
       "  <thead>\n",
       "    <tr style=\"text-align: right;\">\n",
       "      <th></th>\n",
       "      <th>AFF_ISO</th>\n",
       "      <th>COUNTRYAFF</th>\n",
       "      <th>Country</th>\n",
       "      <th>FID</th>\n",
       "      <th>ISO</th>\n",
       "      <th>SHAPE</th>\n",
       "    </tr>\n",
       "  </thead>\n",
       "  <tbody>\n",
       "    <tr>\n",
       "      <th>0</th>\n",
       "      <td>FK</td>\n",
       "      <td>United Kingdom</td>\n",
       "      <td>Falkland Islands</td>\n",
       "      <td>1</td>\n",
       "      <td>FK</td>\n",
       "      <td>{'rings': [[[-6606596.26482308, -6862393.47442...</td>\n",
       "    </tr>\n",
       "    <tr>\n",
       "      <th>1</th>\n",
       "      <td>FR</td>\n",
       "      <td>France</td>\n",
       "      <td>French Guiana</td>\n",
       "      <td>2</td>\n",
       "      <td>GF</td>\n",
       "      <td>{'rings': [[[-6078465.19716979, 259355.8059185...</td>\n",
       "    </tr>\n",
       "    <tr>\n",
       "      <th>2</th>\n",
       "      <td>GY</td>\n",
       "      <td>Guyana</td>\n",
       "      <td>Guyana</td>\n",
       "      <td>3</td>\n",
       "      <td>GY</td>\n",
       "      <td>{'rings': [[[-6475746.20510377, 760125.6448030...</td>\n",
       "    </tr>\n",
       "    <tr>\n",
       "      <th>3</th>\n",
       "      <td>CY</td>\n",
       "      <td>Cyprus</td>\n",
       "      <td>Cyprus</td>\n",
       "      <td>4</td>\n",
       "      <td>CY</td>\n",
       "      <td>{'rings': [[[3703854.51647088, 4124479.2033668...</td>\n",
       "    </tr>\n",
       "    <tr>\n",
       "      <th>4</th>\n",
       "      <td>PN</td>\n",
       "      <td>United Kingdom</td>\n",
       "      <td>Pitcairn</td>\n",
       "      <td>5</td>\n",
       "      <td>PN</td>\n",
       "      <td>{'rings': [[[-14285877.1586672, -2793337.67101...</td>\n",
       "    </tr>\n",
       "  </tbody>\n",
       "</table>\n",
       "</div>"
      ],
      "text/plain": [
       "  AFF_ISO      COUNTRYAFF           Country  FID ISO  \\\n",
       "0      FK  United Kingdom  Falkland Islands    1  FK   \n",
       "1      FR          France     French Guiana    2  GF   \n",
       "2      GY          Guyana            Guyana    3  GY   \n",
       "3      CY          Cyprus            Cyprus    4  CY   \n",
       "4      PN  United Kingdom          Pitcairn    5  PN   \n",
       "\n",
       "                                               SHAPE  \n",
       "0  {'rings': [[[-6606596.26482308, -6862393.47442...  \n",
       "1  {'rings': [[[-6078465.19716979, 259355.8059185...  \n",
       "2  {'rings': [[[-6475746.20510377, 760125.6448030...  \n",
       "3  {'rings': [[[3703854.51647088, 4124479.2033668...  \n",
       "4  {'rings': [[[-14285877.1586672, -2793337.67101...  "
      ]
     },
     "execution_count": 18,
     "metadata": {},
     "output_type": "execute_result"
    }
   ],
   "source": [
    "countries = SpatialDataFrame.from_layer(boundary_lyr)\n",
    "countries.head()"
   ]
  },
  {
   "cell_type": "code",
   "execution_count": 47,
   "metadata": {},
   "outputs": [
    {
     "data": {
      "text/plain": [
       "[<Item title:\"USA Major Cities\" type:Feature Layer Collection owner:esri_dm>,\n",
       " <Item title:\"Dallas County Cities\" type:Feature Layer Collection owner:Leah.Bowyer_DC>,\n",
       " <Item title:\"City Limits\" type:Feature Layer Collection owner:JCGIS_Owner>,\n",
       " <Item title:\"World Cities\" type:Feature Layer Collection owner:esri_dm>,\n",
       " <Item title:\"City Limits\" type:Feature Layer Collection owner:slace>,\n",
       " <Item title:\"Aggregation of Drug Incidents of Portland City in 2012 to Subset_boundary\" type:Feature Layer Collection owner:geog4673_06>,\n",
       " <Item title:\"Current Metropolitan New England City and Town Areas\" type:Feature Layer Collection owner:cmenzel_dcdev>,\n",
       " <Item title:\"City_of_Portland\" type:Feature Layer Collection owner:arkemac_reed>,\n",
       " <Item title:\"City Council Districts\" type:Feature Layer Collection owner:cocgis_admin>,\n",
       " <Item title:\"Grand Junction City_Limits\" type:Feature Layer Collection owner:stapia_hla>,\n",
       " <Item title:\"Boundaries _ City Info\" type:Feature Layer Collection owner:savannah.winstanley>,\n",
       " <Item title:\"Major Cities\" type:Feature Layer Collection owner:sedlock_familiesusa>,\n",
       " <Item title:\"Atlanta City Limits 09n\" type:Feature Layer Collection owner:leo.ladefian1255>,\n",
       " <Item title:\"Fairfax City Boundary\" type:Feature Layer Collection owner:jtsmolinski_ga>,\n",
       " <Item title:\"Summarize Grasham_city_boundary within zoning_MUC1_2\" type:Feature Layer Collection owner:julianlondon>,\n",
       " <Item title:\"City of Jacksonville ETJ Limits\" type:Feature Layer Collection owner:Angelia_Hagopian_onslow>,\n",
       " <Item title:\"City_Boundary_w_15mile_buffer_for_PD\" type:Feature Layer Collection owner:delraygis1>,\n",
       " <Item title:\"OK_Cities\" type:Feature Layer Collection owner:CROSSN1>,\n",
       " <Item title:\"City of Winston-Salem Wards\" type:Feature Layer Collection owner:cowsdot_1>,\n",
       " <Item title:\"Dissolve Drive - 200 miles from Top 100 Cities\" type:Feature Layer Collection owner:helent_biz>,\n",
       " <Item title:\"city_boundary_powerbi\" type:Feature Layer Collection owner:NayseV9>,\n",
       " <Item title:\"City Master Plans - Overlays\" type:Feature Layer Collection owner:AlexGIS_AlexGIS>,\n",
       " <Item title:\"City_of_Hutto_Roadways\" type:Feature Layer Collection owner:sneuman2012>,\n",
       " <Item title:\"City_Limits_Tree\" type:Feature Layer Collection owner:Graylin58>,\n",
       " <Item title:\"City Boundaries\" type:Feature Layer Collection owner:SWFWMD_Publisher>,\n",
       " <Item title:\"City Limits\" type:Feature Layer Collection owner:chrisd_GJcityGIS>,\n",
       " <Item title:\"amount of city within restricted zone\" type:Feature Layer Collection owner:U50178068_usflibrary>,\n",
       " <Item title:\"City boundary\" type:Feature Layer Collection owner:CASCENG>,\n",
       " <Item title:\"Atlantic City Areas Where Tourisim Trade Predominates New Jersey\" type:Feature Layer Collection owner:dosopa216>,\n",
       " <Item title:\"Intersect_of_Colorado_City_Boundaries_Directional_Wells\" type:Feature Layer Collection owner:eszeller_CSUrams>,\n",
       " <Item title:\"Cities\" type:Feature Layer Collection owner:dan1988>,\n",
       " <Item title:\"Intersect of Voting Precincts and City Boundary\" type:Feature Layer Collection owner:McIlroyM_CBB>,\n",
       " <Item title:\"City_Boundary_2019\" type:Feature Layer Collection owner:Aaron.wong@sccrov>,\n",
       " <Item title:\"CG City Boundary\" type:Feature Layer Collection owner:LTilstra>,\n",
       " <Item title:\"Select City Points\" type:Feature Layer Collection owner:ChinoBasinWCD>,\n",
       " <Item title:\"Pittsburgh City Boundary\" type:Feature Layer Collection owner:DetroitGISData>,\n",
       " <Item title:\"Annapolis City Boundary - Copy\" type:Feature Layer Collection owner:patr4089@esri.com_citygov>,\n",
       " <Item title:\"Dissolve Travel from eclipse_cities (5 Hours)\" type:Feature Layer Collection owner:vanostranmf>,\n",
       " <Item title:\"Durham City Boundary\" type:Feature Layer Collection owner:Durham_GIS>,\n",
       " <Item title:\"Urban Audit: Greater Cities (December 2011) Generalised Clipped Boundaries in Great Britain\" type:Feature Layer Collection owner:ONSGeography_data>,\n",
       " <Item title:\"Boundaries_City of Gold Coast LGA\" type:Feature Layer Collection owner:DeveloperLicense2018>,\n",
       " <Item title:\"City Council District\" type:Feature Layer Collection owner:PublicInfo_TampaGIS>,\n",
       " <Item title:\"city_boundary\" type:Feature Layer Collection owner:PlatteCity>,\n",
       " <Item title:\"Cities\" type:Feature Layer Collection owner:lplachinski_FRBChi>,\n",
       " <Item title:\"City_Boundaries_Hosted\" type:Feature Layer Collection owner:yoloagoadmin>,\n",
       " <Item title:\"City Limits\" type:Feature Layer Collection owner:kifrank_ufl>,\n",
       " <Item title:\"Prineville City Limits\" type:Feature Layer Collection owner:crookcountygis>,\n",
       " <Item title:\"Aggregation_of_Chronic_Absentee_rates_by_zip_code_to_City_of_Detroit_Zip_Code_Boundaries\" type:Feature Layer Collection owner:UWSEM2014>,\n",
       " <Item title:\"SRW City Boundaries\" type:Feature Layer Collection owner:aidan.smith_portlandcc>,\n",
       " <Item title:\"City Boundary Polygon\" type:Feature Layer Collection owner:AllentownPA>]"
      ]
     },
     "execution_count": 47,
     "metadata": {},
     "output_type": "execute_result"
    }
   ],
   "source": [
    "search_result = g.content.search(query=\"title: city boundaries\", item_type=\"Feature Layer\", max_items = 50, outside_org=True)\n",
    "search_result"
   ]
  },
  {
   "cell_type": "code",
   "execution_count": 27,
   "metadata": {},
   "outputs": [],
   "source": [
    "res =search_result[1]"
   ]
  },
  {
   "cell_type": "code",
   "execution_count": 30,
   "metadata": {},
   "outputs": [],
   "source": [
    "states = g.content.get(res.id)\n",
    "states_lyr = states.layers[0]"
   ]
  },
  {
   "cell_type": "code",
   "execution_count": 31,
   "metadata": {},
   "outputs": [],
   "source": [
    "states = SpatialDataFrame.from_layer(states_lyr)"
   ]
  },
  {
   "cell_type": "code",
   "execution_count": 32,
   "metadata": {},
   "outputs": [
    {
     "data": {
      "text/html": [
       "<div>\n",
       "<style scoped>\n",
       "    .dataframe tbody tr th:only-of-type {\n",
       "        vertical-align: middle;\n",
       "    }\n",
       "\n",
       "    .dataframe tbody tr th {\n",
       "        vertical-align: top;\n",
       "    }\n",
       "\n",
       "    .dataframe thead th {\n",
       "        text-align: right;\n",
       "    }\n",
       "</style>\n",
       "<table border=\"1\" class=\"dataframe\">\n",
       "  <thead>\n",
       "    <tr style=\"text-align: right;\">\n",
       "      <th></th>\n",
       "      <th>CAND_COUNT</th>\n",
       "      <th>NA2desc</th>\n",
       "      <th>NAM</th>\n",
       "      <th>OBJECTID</th>\n",
       "      <th>Shape__Area</th>\n",
       "      <th>Shape__Length</th>\n",
       "      <th>SHAPE</th>\n",
       "    </tr>\n",
       "  </thead>\n",
       "  <tbody>\n",
       "    <tr>\n",
       "      <th>0</th>\n",
       "      <td>915</td>\n",
       "      <td>Kiribati</td>\n",
       "      <td>Abatiku</td>\n",
       "      <td>11</td>\n",
       "      <td>0.000235</td>\n",
       "      <td>0.081996</td>\n",
       "      <td>{'rings': [[[173.794937000242, 0.3756109996479...</td>\n",
       "    </tr>\n",
       "    <tr>\n",
       "      <th>1</th>\n",
       "      <td>197</td>\n",
       "      <td>Papua New Guinea</td>\n",
       "      <td>Ablingi Island</td>\n",
       "      <td>19</td>\n",
       "      <td>0.000233</td>\n",
       "      <td>0.058690</td>\n",
       "      <td>{'rings': [[[150.070526000175, -6.310417000044...</td>\n",
       "    </tr>\n",
       "    <tr>\n",
       "      <th>2</th>\n",
       "      <td>293</td>\n",
       "      <td>Australia</td>\n",
       "      <td>Acheron Island</td>\n",
       "      <td>28</td>\n",
       "      <td>0.000053</td>\n",
       "      <td>0.033337</td>\n",
       "      <td>{'rings': [[[146.629302999934, -18.96991700006...</td>\n",
       "    </tr>\n",
       "    <tr>\n",
       "      <th>3</th>\n",
       "      <td>975</td>\n",
       "      <td>New Zealand</td>\n",
       "      <td>Adele Island</td>\n",
       "      <td>43</td>\n",
       "      <td>0.000094</td>\n",
       "      <td>0.038418</td>\n",
       "      <td>{'rings': [[[173.055359000318, -40.98599999990...</td>\n",
       "    </tr>\n",
       "    <tr>\n",
       "      <th>4</th>\n",
       "      <td>272</td>\n",
       "      <td>United States</td>\n",
       "      <td>Adugak Island</td>\n",
       "      <td>51</td>\n",
       "      <td>0.000103</td>\n",
       "      <td>0.060943</td>\n",
       "      <td>{'rings': [[[-169.174804999951, 52.89848699997...</td>\n",
       "    </tr>\n",
       "  </tbody>\n",
       "</table>\n",
       "</div>"
      ],
      "text/plain": [
       "   CAND_COUNT           NA2desc             NAM  OBJECTID  Shape__Area  \\\n",
       "0         915          Kiribati         Abatiku        11     0.000235   \n",
       "1         197  Papua New Guinea  Ablingi Island        19     0.000233   \n",
       "2         293         Australia  Acheron Island        28     0.000053   \n",
       "3         975       New Zealand    Adele Island        43     0.000094   \n",
       "4         272     United States   Adugak Island        51     0.000103   \n",
       "\n",
       "   Shape__Length                                              SHAPE  \n",
       "0       0.081996  {'rings': [[[173.794937000242, 0.3756109996479...  \n",
       "1       0.058690  {'rings': [[[150.070526000175, -6.310417000044...  \n",
       "2       0.033337  {'rings': [[[146.629302999934, -18.96991700006...  \n",
       "3       0.038418  {'rings': [[[173.055359000318, -40.98599999990...  \n",
       "4       0.060943  {'rings': [[[-169.174804999951, 52.89848699997...  "
      ]
     },
     "execution_count": 32,
     "metadata": {},
     "output_type": "execute_result"
    }
   ],
   "source": [
    "states.head()"
   ]
  },
  {
   "cell_type": "code",
   "execution_count": 61,
   "metadata": {},
   "outputs": [],
   "source": [
    "geo = states[states.NAM == \"Lima\"].SHAPE.iloc[0]"
   ]
  },
  {
   "cell_type": "code",
   "execution_count": 74,
   "metadata": {},
   "outputs": [],
   "source": [
    "geo1 = SpatialDataFrame.from_featureclass(r\"C:\\Users\\wb542830\\Documents\\ArcGIS_Python\\AOI\\Lima_AOI.shp\")"
   ]
  },
  {
   "cell_type": "code",
   "execution_count": 1,
   "metadata": {},
   "outputs": [],
   "source": [
    "#arcpy.Clip_management(pop_lyr, \"-77.26902770946117 -12.520417214083125 -76.62148284915412 -11.572877884306877\", \n",
    "#                      r\"Documents\\ArcGIS_Python\\Lima_clip.tif\", r\"Documents\\ArcGIS_Python\\AOI\\Lima_AOI.shp\",\n",
    "#                      \"0\", \"ClippingGeometry\", \n",
    "#                      \"MAINTAIN_EXTENT\")\n",
    "\n"
   ]
  },
  {
   "cell_type": "code",
   "execution_count": 130,
   "metadata": {},
   "outputs": [],
   "source": [
    "folder = r\"Documents\\ArcGIS_Python\\rasters\"\n",
    "\n",
    "## Extracting spatial reference so that clipped rasters have the same reference\n",
    "\n",
    "sr = pop_lyr.properties.spatialReference\n",
    "\n",
    "names_dict = {pop_lyr:\"pop\",elev_lyr:\"elev\"}"
   ]
  },
  {
   "cell_type": "code",
   "execution_count": 139,
   "metadata": {},
   "outputs": [],
   "source": [
    "from arcgis.raster.functions import clip\n",
    "\n",
    "def output_raster(city,layer):\n",
    "    \n",
    "    '''\n",
    "    Function to output rasters for elevation or population, clipped to national borders\n",
    "    '''\n",
    "    path = r\"Documents\\ArcGIS_Python\\AOI\\{}_AOI.shp\".format(city)\n",
    "    \n",
    "    geo = SpatialDataFrame.from_featureclass(path)\n",
    "    \n",
    "    filename = names_dict[layer]+'_'+str(city)+'.tif'\n",
    "\n",
    "    AOI = geocode(city,out_sr=sr)[0]['extent']\n",
    "    AOI['spatialReference'] = sr\n",
    "    layer.extent = AOI\n",
    "\n",
    "    clipped = clip(layer,geo.SHAPE.iloc[0])\n",
    "    clipped.export_image(f='image', bbox = AOI, export_format='tiff',\n",
    "                    save_folder = folder, save_file=filename)"
   ]
  },
  {
   "cell_type": "code",
   "execution_count": 140,
   "metadata": {},
   "outputs": [],
   "source": [
    "output_raster('Lima', pop_lyr)"
   ]
  },
  {
   "cell_type": "code",
   "execution_count": 134,
   "metadata": {},
   "outputs": [],
   "source": [
    "path = r\"Documents\\ArcGIS_Python\\AOI\\{}_AOI.shp\".format('Lima')\n",
    "    \n",
    "geo = SpatialDataFrame.from_featureclass(path)"
   ]
  },
  {
   "cell_type": "code",
   "execution_count": 5,
   "metadata": {},
   "outputs": [],
   "source": [
    "lima = Raster(r\"Documents\\ArcGIS_Python\\rasters\\pop_Lima.tif\")"
   ]
  },
  {
   "cell_type": "code",
   "execution_count": 8,
   "metadata": {},
   "outputs": [
    {
     "data": {
      "text/plain": [
       "C:\\Users\\wb542830\\Documents\\ArcGIS_Python\\rasters\\pop_Lima.tif"
      ]
     },
     "execution_count": 8,
     "metadata": {},
     "output_type": "execute_result"
    }
   ],
   "source": [
    "lima"
   ]
  },
  {
   "cell_type": "code",
   "execution_count": null,
   "metadata": {},
   "outputs": [],
   "source": []
  }
 ],
 "metadata": {
  "kernelspec": {
   "display_name": "Python 3",
   "language": "python",
   "name": "python3"
  },
  "language_info": {
   "codemirror_mode": {
    "name": "ipython",
    "version": 3
   },
   "file_extension": ".py",
   "mimetype": "text/x-python",
   "name": "python",
   "nbconvert_exporter": "python",
   "pygments_lexer": "ipython3",
   "version": "3.6.4"
  }
 },
 "nbformat": 4,
 "nbformat_minor": 2
}
